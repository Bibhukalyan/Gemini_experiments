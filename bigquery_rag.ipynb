{
  "cells": [
    {
      "cell_type": "code",
      "id": "i6ajzyt5r6udmXo7r0t4tlYM",
      "metadata": {
        "tags": [],
        "id": "i6ajzyt5r6udmXo7r0t4tlYM",
        "colab": {
          "base_uri": "https://localhost:8080/",
          "height": 957
        },
        "executionInfo": {
          "status": "ok",
          "timestamp": 1735997943293,
          "user_tz": -330,
          "elapsed": 14268,
          "user": {
            "displayName": "",
            "userId": ""
          }
        },
        "outputId": "002488f5-d438-4b0f-859a-afbf08423129"
      },
      "source": [
        "!pip install --upgrade --user google-cloud-aiplatform google-cloud-bigquery"
      ],
      "execution_count": 1,
      "outputs": [
        {
          "output_type": "stream",
          "name": "stdout",
          "text": [
            "Requirement already satisfied: google-cloud-aiplatform in /usr/local/lib/python3.10/dist-packages (1.73.0)\n",
            "Collecting google-cloud-aiplatform\n",
            "  Downloading google_cloud_aiplatform-1.75.0-py2.py3-none-any.whl.metadata (31 kB)\n",
            "Requirement already satisfied: google-cloud-bigquery in /usr/local/lib/python3.10/dist-packages (3.25.0)\n",
            "Collecting google-cloud-bigquery\n",
            "  Downloading google_cloud_bigquery-3.27.0-py2.py3-none-any.whl.metadata (8.6 kB)\n",
            "Requirement already satisfied: google-api-core!=2.0.*,!=2.1.*,!=2.2.*,!=2.3.*,!=2.4.*,!=2.5.*,!=2.6.*,!=2.7.*,<3.0.0dev,>=1.34.1 in /usr/local/lib/python3.10/dist-packages (from google-api-core[grpc]!=2.0.*,!=2.1.*,!=2.2.*,!=2.3.*,!=2.4.*,!=2.5.*,!=2.6.*,!=2.7.*,<3.0.0dev,>=1.34.1->google-cloud-aiplatform) (2.19.2)\n",
            "Requirement already satisfied: google-auth<3.0.0dev,>=2.14.1 in /usr/local/lib/python3.10/dist-packages (from google-cloud-aiplatform) (2.27.0)\n",
            "Requirement already satisfied: proto-plus<2.0.0dev,>=1.22.3 in /usr/local/lib/python3.10/dist-packages (from google-cloud-aiplatform) (1.25.0)\n",
            "Requirement already satisfied: protobuf!=4.21.0,!=4.21.1,!=4.21.2,!=4.21.3,!=4.21.4,!=4.21.5,<6.0.0dev,>=3.20.2 in /usr/local/lib/python3.10/dist-packages (from google-cloud-aiplatform) (4.25.5)\n",
            "Requirement already satisfied: packaging>=14.3 in /usr/local/lib/python3.10/dist-packages (from google-cloud-aiplatform) (24.2)\n",
            "Requirement already satisfied: google-cloud-storage<3.0.0dev,>=1.32.0 in /usr/local/lib/python3.10/dist-packages (from google-cloud-aiplatform) (2.8.0)\n",
            "Requirement already satisfied: google-cloud-resource-manager<3.0.0dev,>=1.3.3 in /usr/local/lib/python3.10/dist-packages (from google-cloud-aiplatform) (1.13.1)\n",
            "Requirement already satisfied: shapely<3.0.0dev in /usr/local/lib/python3.10/dist-packages (from google-cloud-aiplatform) (2.0.6)\n",
            "Requirement already satisfied: pydantic<3 in /usr/local/lib/python3.10/dist-packages (from google-cloud-aiplatform) (2.10.3)\n",
            "Requirement already satisfied: docstring-parser<1 in /usr/local/lib/python3.10/dist-packages (from google-cloud-aiplatform) (0.16)\n",
            "Requirement already satisfied: google-cloud-core<3.0.0dev,>=2.4.1 in /usr/local/lib/python3.10/dist-packages (from google-cloud-bigquery) (2.4.1)\n",
            "Requirement already satisfied: google-resumable-media<3.0dev,>=2.0.0 in /usr/local/lib/python3.10/dist-packages (from google-cloud-bigquery) (2.7.2)\n",
            "Requirement already satisfied: python-dateutil<3.0dev,>=2.7.3 in /usr/local/lib/python3.10/dist-packages (from google-cloud-bigquery) (2.8.2)\n",
            "Requirement already satisfied: requests<3.0.0dev,>=2.21.0 in /usr/local/lib/python3.10/dist-packages (from google-cloud-bigquery) (2.32.3)\n",
            "Requirement already satisfied: googleapis-common-protos<2.0.dev0,>=1.56.2 in /usr/local/lib/python3.10/dist-packages (from google-api-core!=2.0.*,!=2.1.*,!=2.2.*,!=2.3.*,!=2.4.*,!=2.5.*,!=2.6.*,!=2.7.*,<3.0.0dev,>=1.34.1->google-api-core[grpc]!=2.0.*,!=2.1.*,!=2.2.*,!=2.3.*,!=2.4.*,!=2.5.*,!=2.6.*,!=2.7.*,<3.0.0dev,>=1.34.1->google-cloud-aiplatform) (1.66.0)\n",
            "Requirement already satisfied: grpcio<2.0dev,>=1.33.2 in /usr/local/lib/python3.10/dist-packages (from google-api-core[grpc]!=2.0.*,!=2.1.*,!=2.2.*,!=2.3.*,!=2.4.*,!=2.5.*,!=2.6.*,!=2.7.*,<3.0.0dev,>=1.34.1->google-cloud-aiplatform) (1.68.1)\n",
            "Requirement already satisfied: grpcio-status<2.0.dev0,>=1.33.2 in /usr/local/lib/python3.10/dist-packages (from google-api-core[grpc]!=2.0.*,!=2.1.*,!=2.2.*,!=2.3.*,!=2.4.*,!=2.5.*,!=2.6.*,!=2.7.*,<3.0.0dev,>=1.34.1->google-cloud-aiplatform) (1.62.3)\n",
            "Requirement already satisfied: cachetools<6.0,>=2.0.0 in /usr/local/lib/python3.10/dist-packages (from google-auth<3.0.0dev,>=2.14.1->google-cloud-aiplatform) (5.5.0)\n",
            "Requirement already satisfied: pyasn1-modules>=0.2.1 in /usr/local/lib/python3.10/dist-packages (from google-auth<3.0.0dev,>=2.14.1->google-cloud-aiplatform) (0.4.1)\n",
            "Requirement already satisfied: rsa<5,>=3.1.4 in /usr/local/lib/python3.10/dist-packages (from google-auth<3.0.0dev,>=2.14.1->google-cloud-aiplatform) (4.9)\n",
            "Requirement already satisfied: grpc-google-iam-v1<1.0.0dev,>=0.12.4 in /usr/local/lib/python3.10/dist-packages (from google-cloud-resource-manager<3.0.0dev,>=1.3.3->google-cloud-aiplatform) (0.13.1)\n",
            "Requirement already satisfied: google-crc32c<2.0dev,>=1.0 in /usr/local/lib/python3.10/dist-packages (from google-resumable-media<3.0dev,>=2.0.0->google-cloud-bigquery) (1.6.0)\n",
            "Requirement already satisfied: annotated-types>=0.6.0 in /usr/local/lib/python3.10/dist-packages (from pydantic<3->google-cloud-aiplatform) (0.7.0)\n",
            "Requirement already satisfied: pydantic-core==2.27.1 in /usr/local/lib/python3.10/dist-packages (from pydantic<3->google-cloud-aiplatform) (2.27.1)\n",
            "Requirement already satisfied: typing-extensions>=4.12.2 in /usr/local/lib/python3.10/dist-packages (from pydantic<3->google-cloud-aiplatform) (4.12.2)\n",
            "Requirement already satisfied: six>=1.5 in /usr/local/lib/python3.10/dist-packages (from python-dateutil<3.0dev,>=2.7.3->google-cloud-bigquery) (1.17.0)\n",
            "Requirement already satisfied: charset-normalizer<4,>=2 in /usr/local/lib/python3.10/dist-packages (from requests<3.0.0dev,>=2.21.0->google-cloud-bigquery) (3.4.0)\n",
            "Requirement already satisfied: idna<4,>=2.5 in /usr/local/lib/python3.10/dist-packages (from requests<3.0.0dev,>=2.21.0->google-cloud-bigquery) (3.10)\n",
            "Requirement already satisfied: urllib3<3,>=1.21.1 in /usr/local/lib/python3.10/dist-packages (from requests<3.0.0dev,>=2.21.0->google-cloud-bigquery) (2.2.3)\n",
            "Requirement already satisfied: certifi>=2017.4.17 in /usr/local/lib/python3.10/dist-packages (from requests<3.0.0dev,>=2.21.0->google-cloud-bigquery) (2024.8.30)\n",
            "Requirement already satisfied: numpy<3,>=1.14 in /usr/local/lib/python3.10/dist-packages (from shapely<3.0.0dev->google-cloud-aiplatform) (1.26.4)\n",
            "Requirement already satisfied: pyasn1<0.7.0,>=0.4.6 in /usr/local/lib/python3.10/dist-packages (from pyasn1-modules>=0.2.1->google-auth<3.0.0dev,>=2.14.1->google-cloud-aiplatform) (0.6.1)\n",
            "Downloading google_cloud_aiplatform-1.75.0-py2.py3-none-any.whl (6.9 MB)\n",
            "\u001b[2K   \u001b[90m━━━━━━━━━━━━━━━━━━━━━━━━━━━━━━━━━━━━━━━━\u001b[0m \u001b[32m6.9/6.9 MB\u001b[0m \u001b[31m60.3 MB/s\u001b[0m eta \u001b[36m0:00:00\u001b[0m\n",
            "\u001b[?25hDownloading google_cloud_bigquery-3.27.0-py2.py3-none-any.whl (240 kB)\n",
            "\u001b[2K   \u001b[90m━━━━━━━━━━━━━━━━━━━━━━━━━━━━━━━━━━━━━━━━\u001b[0m \u001b[32m240.1/240.1 kB\u001b[0m \u001b[31m24.7 MB/s\u001b[0m eta \u001b[36m0:00:00\u001b[0m\n",
            "\u001b[?25hInstalling collected packages: google-cloud-bigquery, google-cloud-aiplatform\n",
            "\u001b[33m  WARNING: The script tb-gcp-uploader is installed in '/root/.local/bin' which is not on PATH.\n",
            "  Consider adding this directory to PATH or, if you prefer to suppress this warning, use --no-warn-script-location.\u001b[0m\u001b[33m\n",
            "\u001b[0mSuccessfully installed google-cloud-aiplatform-1.75.0 google-cloud-bigquery-3.27.0\n"
          ]
        },
        {
          "output_type": "display_data",
          "data": {
            "application/vnd.colab-display-data+json": {
              "pip_warning": {
                "packages": [
                  "google"
                ]
              },
              "id": "6b6d9595770f4d02a4f7f1bab3d6caf7"
            }
          },
          "metadata": {}
        }
      ]
    },
    {
      "cell_type": "code",
      "source": [
        "# Get project ID\n",
        "PROJECT_ID = ! gcloud config get-value project\n",
        "PROJECT_ID = PROJECT_ID[0]\n",
        "LOCATION = \"us-central1\" # @param {type:\"string\"}\n",
        "print(PROJECT_ID)"
      ],
      "metadata": {
        "colab": {
          "base_uri": "https://localhost:8080/"
        },
        "id": "QI2bLBZoiBCz",
        "executionInfo": {
          "status": "ok",
          "timestamp": 1735997944999,
          "user_tz": -330,
          "elapsed": 1712,
          "user": {
            "displayName": "",
            "userId": ""
          }
        },
        "outputId": "25291306-3f31-4aff-df5f-5c8f8d09b5a5"
      },
      "id": "QI2bLBZoiBCz",
      "execution_count": 2,
      "outputs": [
        {
          "output_type": "stream",
          "name": "stdout",
          "text": [
            "qwiklabs-gcp-03-f7d85e7504d4\n"
          ]
        }
      ]
    },
    {
      "cell_type": "code",
      "source": [
        "from google.cloud import aiplatform\n",
        "aiplatform.init(project=PROJECT_ID, location=LOCATION)\n",
        "\n",
        "print(\"Initialized\")"
      ],
      "metadata": {
        "colab": {
          "base_uri": "https://localhost:8080/"
        },
        "id": "Uyb4I9qriNr3",
        "executionInfo": {
          "status": "ok",
          "timestamp": 1735997983353,
          "user_tz": -330,
          "elapsed": 10961,
          "user": {
            "displayName": "",
            "userId": ""
          }
        },
        "outputId": "a3664348-aafe-4721-fddd-ae7da9b2c93f"
      },
      "id": "Uyb4I9qriNr3",
      "execution_count": 3,
      "outputs": [
        {
          "output_type": "stream",
          "name": "stdout",
          "text": [
            "Initialized\n"
          ]
        }
      ]
    },
    {
      "cell_type": "code",
      "source": [
        "import vertexai\n",
        "from vertexai.generative_models import GenerativeModel, Part\n",
        "\n",
        "def answer_question_gemini(prompt):\n",
        "  model = GenerativeModel(\"gemini-pro\")\n",
        "  response = model.generate_content(\n",
        "    prompt,\n",
        "    generation_config={\n",
        "        \"max_output_tokens\": 8192,\n",
        "        \"temperature\": 0.5,\n",
        "        \"top_p\": 0.5,\n",
        "        \"top_k\": 10,\n",
        "    },\n",
        "  stream=False,\n",
        "  )\n",
        "  try:\n",
        "    return response.text\n",
        "  except:\n",
        "    print(\"An Error Ocuured Cleaning the Data\")\n",
        "    return \"An Error Ocuured Cleaning the Data\""
      ],
      "metadata": {
        "id": "tBaM78OQiUN5",
        "executionInfo": {
          "status": "ok",
          "timestamp": 1735997990192,
          "user_tz": -330,
          "elapsed": 818,
          "user": {
            "displayName": "",
            "userId": ""
          }
        }
      },
      "id": "tBaM78OQiUN5",
      "execution_count": 4,
      "outputs": []
    },
    {
      "cell_type": "code",
      "source": [
        "def run_search(question):\n",
        "  from google.cloud import bigquery\n",
        "\n",
        "  client = bigquery.Client()\n",
        "\n",
        "  sql = \"\"\"\n",
        "      SELECT query.query, base.title, base.body\n",
        "      FROM VECTOR_SEARCH(\n",
        "      TABLE `bbc_news.bbc_news_with_embeddings_table`, 'text_embedding',\n",
        "      (\n",
        "      SELECT text_embedding, content AS query\n",
        "      FROM ML.GENERATE_TEXT_EMBEDDING(MODEL `bbc_news.bq_embedding_model`,\n",
        "          (SELECT @question AS content))),\n",
        "      top_k => 5)\n",
        "      \"\"\"\n",
        "\n",
        "  job_config = bigquery.QueryJobConfig(\n",
        "    query_parameters=[\n",
        "        bigquery.ScalarQueryParameter(\"question\", \"STRING\", question),\n",
        "    ]\n",
        "  )\n",
        "\n",
        "  query_job = client.query(sql, job_config=job_config)\n",
        "\n",
        "  data = \"\"\n",
        "  for row in query_job:\n",
        "    data += row.body + \"\\n\"\n",
        "\n",
        "  return data"
      ],
      "metadata": {
        "id": "Xeuq2hgMiZWu",
        "executionInfo": {
          "status": "ok",
          "timestamp": 1735998061111,
          "user_tz": -330,
          "elapsed": 749,
          "user": {
            "displayName": "",
            "userId": ""
          }
        }
      },
      "id": "Xeuq2hgMiZWu",
      "execution_count": 5,
      "outputs": []
    },
    {
      "cell_type": "code",
      "source": [
        "def build_prompt(data, question):\n",
        "  prompt = \"\"\"\n",
        "    Instructions: Answer the question using the following Context.\n",
        "\n",
        "    Context: {0}\n",
        "\n",
        "    Question: {1}\n",
        "  \"\"\".format(data, question)\n",
        "  return prompt"
      ],
      "metadata": {
        "id": "MH755VhoiaKv",
        "executionInfo": {
          "status": "ok",
          "timestamp": 1735998114856,
          "user_tz": -330,
          "elapsed": 886,
          "user": {
            "displayName": "",
            "userId": ""
          }
        }
      },
      "id": "MH755VhoiaKv",
      "execution_count": 6,
      "outputs": []
    },
    {
      "cell_type": "code",
      "source": [
        "from IPython.core.display import display, HTML\n",
        "\n",
        "def answer_question(question):\n",
        "\n",
        "  data = run_search(question)\n",
        "  display(\"Retrieved Data:\")\n",
        "  display(data)\n",
        "  display(\" . . . \")\n",
        "  prompt = build_prompt(data, question)\n",
        "  answer_gemini = answer_question_gemini(prompt)\n",
        "\n",
        "  return answer_gemini"
      ],
      "metadata": {
        "id": "SuPKszDsicwn",
        "executionInfo": {
          "status": "ok",
          "timestamp": 1735998135764,
          "user_tz": -330,
          "elapsed": 756,
          "user": {
            "displayName": "",
            "userId": ""
          }
        }
      },
      "id": "SuPKszDsicwn",
      "execution_count": 7,
      "outputs": []
    },
    {
      "cell_type": "code",
      "source": [
        "QUESTION = \"Tell me about the US Economy\"\n",
        "\n",
        "answer_gemini = answer_question(QUESTION)\n",
        "display(\"User Question:\")\n",
        "display(QUESTION)\n",
        "display(\"--------------------------------\")\n",
        "display(\"Gemini Answer:\")\n",
        "display(answer_gemini)"
      ],
      "metadata": {
        "colab": {
          "base_uri": "https://localhost:8080/",
          "height": 307
        },
        "id": "QP5WGGsUig-7",
        "executionInfo": {
          "status": "ok",
          "timestamp": 1735998174830,
          "user_tz": -330,
          "elapsed": 8512,
          "user": {
            "displayName": "",
            "userId": ""
          }
        },
        "outputId": "43bec6f1-a2d0-488b-8a60-0f3d3f1780b0"
      },
      "id": "QP5WGGsUig-7",
      "execution_count": 8,
      "outputs": [
        {
          "output_type": "display_data",
          "data": {
            "text/plain": [
              "'Retrieved Data:'"
            ],
            "application/vnd.google.colaboratory.intrinsic+json": {
              "type": "string"
            }
          },
          "metadata": {}
        },
        {
          "output_type": "display_data",
          "data": {
            "text/plain": [
              "'The Chinese net-using population looks set to exceed that of the US in less than three years, says a report.\\n\\nChina\\'s net users number 100m but this represents less than 8% of the country\\'s 1.3 billion people. Market analysts Panlogic predicts that net users in China will exceed the 137 million US users of the net by 2008. The report says that the country\\'s culture will mean that Chinese people will use the net for very different ends than in many other nations.\\n\\nAlready net use in China has a very different character than in many Western nations, said William Makower, chief executive of Panlogic. In many Western nations desktop computers that can access the net are hard to escape at work. By contrast in China workplace machines are relatively rare. This, combined with the relatively high cost of PCs in China and the time it takes to get phone lines installed, helps to explains the huge number of net cafes in China. Only 36% of Chinese homes have telephones according to reports. \"Net usage tends to happen in the evening,\" said Mr Makower, \"they get access only when they go home and go off to the internet caf&#233;.\" \"Its fundamentally different usage to what we have here,\" he said.\\n\\nNet use in China was still very much an urban phenomenon with most users living on the country\\'s eastern seaboard or in its three biggest cities. The net is key to helping Chinese people keep in touch with friends, said Mr Makower. Many people use it in preference to the phone or arrange to meet up with friends at net cafes. What people can do on the net is also limited by aspects of Chinese life. For instance, said Mr Makower, credit cards are rare in China partly because of fears people have about getting in to debt. \"The most popular way to pay is Cash-On-Delivery,\" he said, \"and that\\'s quite a brake to the development of e-commerce.\" The arrival of foreign banks in China, due in 2006, could mean greater use of credit cards but for the moment they are rare, said Mr Makower. But if Chinese people are not spending cash online they are interested in the news they can get via the net and the view it gives them on Western ways of living. \"A large part of the attraction of the internet is that it goes below the radar,\" he said. \"Generally it\\'s more difficult for the government to be able to control it.\" \"Its real value is as an open window onto what\\'s happening elsewhere in the world,\" he said. Government restrictions on how much advertising can appear on television means that the net is a source of many commercial messages Chinese people would not see anywhere else. Familiarity with the net also has a certain social cachet. \"It\\'s a sign of them having made it that they can use the internet and navigate around it,\" said Mr Makower.\\n\\nSaturday 20 November\\n\\nLansdowne Road, Dublin\\n\\n1300 GMT\\n\\nThe Irish coach knows a repeat of the record 83-3 victory over the States in 2000 is not on the agenda and expects a real test at Lansdowne Road. \"Their coach Tom Billups will have them very organised,\" said O\\'Sullivan. \"They ran five tries past the French in the summer, so we will not take them for granted. We have guys coming into the team who are chomping at the bit.\" The Irish line-up shows nine changes from the team which started against South Africa with winger Tommy Bowe and flanker Denis Leamy making their international debuts. The other changes see recalls for backs David Humphreys, Kevin Maggs and Guy Easterby with Eric Miller, Marcus Horan, Donnacha O\\'Callaghan and Frank Sheehan all returning to the pack.\\n\\nO\\'Sullivan said the players coming in had the opportunity to stake claims for inclusion against Argentina on 27 November. Easterby gets a rare start at scrum-half while Humphreys, now effectively Ronan O\\'Gara\\'s deputy at fly-half, wins his 65th cap. \"We have got to get the focus right on the day,\" said Ulster man Humphreys. \"The US may be classed as weaker opposition, but we will treat them with the respect they deserve.\" The States lost 39-31 against France in their last international and are ranked 16th in world rugby. The Americans have made three changes, plus one positional switch from the game in July against the French. Lock Alec Parker, blind-side flanker Brian Surgener and right wing Al Lakomskis return and captain Kort Schubert of the Cardiff Blues shifts to number eight. Schubert is the only Eagles player remaining from the sides\\' meeting four years ago.\\n\\nG Murphy; S Horgan, B O\\'Driscoll (capt), K Maggs, T Bowe; D Humphreys, G Easterby; M Horan. F Sheahan, J Hayes, D O\\'Callaghan, P O\\'Connell, S Easterby, D Leamy, E Miller.\\n\\nS Byrne, S Best, L Cullen, A Foley, P Stringer, R O\\'Gara, G Dempsey.\\n\\nViljoen; Lakomskis, Emerick, Sika, Fee, Hercus, Timoteo; MacDonald, Wyatt, Waasdorp, Parker, Klerck, Surgener, Petruzzella, Schubert (capt).\\n\\nHobson, Osentowski, Gouws, Mo\\'unga, Williams, Sherman, Tuipulotu.\\n\\nThe US has pushed Japan off the top of the supercomputing chart with IBM\\'s prototype Blue Gene/L machine.\\n\\nIt is being assembled for the Lawrence Livermore National Laboratory, under the US Department of Energy. IBM test results show that Blue Gene/L has managed speeds of 70.72 teraflops. The previous top machine, Japan\\'s NEC Earth Simulator, clocked up 35.86. The Top 500 list was announced on Monday and officially charts the fastest computers in the world.\\n\\nIt is announced every six months and is worked out using an officially recognised mathematical speed test called Linpack which measures calculations per second.\\n\\nOnce completed in 2005, Blue Gene/L will be more powerful than its current prototype. \"Next year with the final Blue Gene, four times what it is this year, it is going to be a real step up and will be hard to beat,\" said Erich Strohmaier, one of the co-founders of the Top500 list. It will help scientists work out the safety, security and reliability requirements for the US\\'s nuclear weapons stockpile, without the need for underground nuclear testing. It will also cut down on the amount of heat generated by the massive power, a big problem for supercomputers.\\n\\nIn second place was Silicon Graphics\\' Columbia supercomputer based at the US space agency\\'s (Nasa) Ames Research Center in California. The Linux-based machine was reported to have reached a top speed of 42.7 trillion calculations per second (teraflops) in October. It will be used to model flight missions, climate research, and aerospace engineering. The defeated Japanese contender, the Earth Simulator, which was listed in third place, losing the top spot it had held since June 2002. It is dedicated to climate modelling and simulating seismic activity.\\n\\nSince the first supercomputer, the Cray-1, was installed at Los Alamos National Laboratory, US, in 1976, computational speed has leaped 500,000 times. The Cray-1 was capable of 80 megaflops (80 million operations a second). The Blue Gene/L machine that will be completed next year will be five million times faster. Started in 1993, the Top 500 list is decided by a group of computer science academics from around the world. It is presented at the International Supercomputer Conference in Pittsburgh.\\n\\nThe explosion in consumer technology is to continue into 2005, delegates at the world\\'s largest gadget show, in Las Vegas, have been told.\\n\\nThe number of gadgets in the shops is predicted to grow by 11%, while devices which talk to each other will become increasingly important. \"Everything is going digital,\" Kirsten Pfeifer from the Consumer Electronics Association, told the BBC News website. The Consumer Electronics Show (CES) featured the pick of 2005\\'s products. \"Consumers are controlling what they want and technologies like HDTVs [high-definition TVs], digital radio, and digital cameras will remain strong in 2005. \"All the products on show really showed the breadth and depth of the industry.\" Despite showing diversity, some delegates attending complained that the showcase lacked as much \"wow factor\" as in previous years.\\n\\nThe portable technologies on show also reflected one of the buzzwords of CES, which was the \"time and place shifting\" of multimedia content - being able to watch and listen to video and music anywhere, at any time. At the start of last year\\'s CES, the CEA predicted there would be an average growth of 4% in 2004. That figure was surpassed with the rise in popularity of portable digital music players, personal video recorders and digital cameras. It was clear also that gadgets are becoming a lot more about lifestyle choice, with fashion and personalisation becoming increasingly key to the way gadgets are designed. Part of this has been the rise in spending power of the \"generation X-ers\" who have grown up with technology and who now have the spending power and desire for more devices that suit them. More than 57% of the consumer electronics market is made up of female buyers, according to CEA research. Hybrid devices, which combine a number of multimedia functions, were also in evidence on the show floor. \"A lot of this is driven by just the ability to do it,\" said Stephen Baker, a consumer electronics analyst with retail research firm NPD Group. \"Some of these functions cost next to nothing to add.\"\\n\\nAs well as the show floor showcasing everything from tiny wearable MP3 players to giant high-definition TVs, several keynote speeches were made by industry leaders, such as Microsoft chief Bill Gates. Despite several embarrassing technical glitches during Mr Gate\\'s pre-show speech, he announced several new partnerships - mainly for the US market. He unveiled new ways of letting people take TV shows recorded on personal video recorders and watch them back on portable devices. He disappointed some, however, by failing to announce any details of the next generation of the Xbox games console. Another disappointment was the lack of exposure Sony\\'s new portable games device, the PSP, had at the show. Sony said the much-anticipated gadget would most likely start shipping in March for the US and Europe. It went on sale in Japan before Christmas. There were only two PSPs embedded in glass cabinets at the show though and no representatives to discuss further details. A Sony representative told the BBC News website this was because Sony did not consider it to be part of their \"consumer technology\" offering.\\n\\nElsewhere at the show, there was a plethora of colour and plasma screens, including Samsung\\'s 102-inch (2.6 metre) plasma - the largest in the world. Industry experts were also excited about high-definition technologies coming to the fore in 2005, with new formats for DVDs coming out which will hold six times as much data as conventional DVDs. With so many devices on the move there were a lot of products on show offering external storage, like Seagate\\'s 5GB pocket sized external hard drive, which won an innovation for engineering and design prize. More than 120,000 trade professionals attended CES in Las Vegas, which officially ran from 6 to 9 January.\\n\\nThe explosion in consumer technology is to continue into 2005, delegates at the world\\'s largest gadget show, in Las Vegas, have been told.\\n\\nThe number of gadgets in the shops is predicted to grow by 11%, while devices which talk to each other will become increasingly important. \"Everything is going digital,\" Kirsten Pfeifer from the Consumer Electronics Association, told the BBC News website. The Consumer Electronics Show (CES) featured the pick of 2005\\'s products. \"Consumers are controlling what they want and technologies like HDTVs [high-definition TVs], digital radio, and digital cameras will remain strong in 2005. \"All the products on show really showed the breadth and depth of the industry.\" Despite showing diversity, some delegates attending complained that the showcase lacked as much \"wow factor\" as in previous years.\\n\\nThe portable technologies on show also reflected one of the buzzwords of CES, which was the \"time and place shifting\" of multimedia content - being able to watch and listen to video and music anywhere, at any time. At the start of last year\\'s CES, the CEA predicted there would be an average growth of 4% in 2004. That figure was surpassed with the rise in popularity of portable digital music players, personal video recorders and digital cameras. It was clear also that gadgets are becoming a lot more about lifestyle choice, with fashion and personalisation becoming increasingly key to the way gadgets are designed. Part of this has been the rise in spending power of the \"generation X-ers\" who have grown up with technology and who now have the spending power and desire for more devices that suit them. More than 57% of the consumer electronics market is made up of female buyers, according to CEA research. Hybrid devices, which combine a number of multimedia functions, were also in evidence on the show floor. \"A lot of this is driven by just the ability to do it,\" said Stephen Baker, a consumer electronics analyst with retail research firm NPD Group. \"Some of these functions cost next to nothing to add.\"\\n\\nAs well as the show floor showcasing everything from tiny wearable MP3 players to giant high-definition TVs, several keynote speeches were made by industry leaders, such as Microsoft chief Bill Gates. Despite several embarrassing technical glitches during Mr Gate\\'s pre-show speech, he announced several new partnerships - mainly for the US market. He unveiled new ways of letting people take TV shows recorded on personal video recorders and watch them back on portable devices. He disappointed some, however, by failing to announce any details of the next generation of the Xbox games console. Another disappointment was the lack of exposure Sony\\'s new portable games device, the PSP, had at the show. Sony said the much-anticipated gadget would most likely start shipping in March for the US and Europe. It went on sale in Japan before Christmas. There were only two PSPs embedded in glass cabinets at the show though and no representatives to discuss further details. A Sony representative told the BBC News website this was because Sony did not consider it to be part of their \"consumer technology\" offering.\\n\\nElsewhere at the show, there was a plethora of colour and plasma screens, including Samsung\\'s 102-inch (2.6 metre) plasma - the largest in the world. Industry experts were also excited about high-definition technologies coming to the fore in 2005, with new formats for DVDs coming out which will hold six times as much data as conventional DVDs. With so many devices on the move there were a lot of products on show offering external storage, like Seagate\\'s 5GB pocket sized external hard drive, which won an innovation for engineering and design prize. More than 120,000 trade professionals attended CES in Las Vegas, which officially ran from 6 to 9 January.\\n\\n'"
            ],
            "application/vnd.google.colaboratory.intrinsic+json": {
              "type": "string"
            }
          },
          "metadata": {}
        },
        {
          "output_type": "display_data",
          "data": {
            "text/plain": [
              "' . . . '"
            ],
            "application/vnd.google.colaboratory.intrinsic+json": {
              "type": "string"
            }
          },
          "metadata": {}
        },
        {
          "output_type": "display_data",
          "data": {
            "text/plain": [
              "'User Question:'"
            ],
            "application/vnd.google.colaboratory.intrinsic+json": {
              "type": "string"
            }
          },
          "metadata": {}
        },
        {
          "output_type": "display_data",
          "data": {
            "text/plain": [
              "'Tell me about the US Economy'"
            ],
            "application/vnd.google.colaboratory.intrinsic+json": {
              "type": "string"
            }
          },
          "metadata": {}
        },
        {
          "output_type": "display_data",
          "data": {
            "text/plain": [
              "'--------------------------------'"
            ],
            "application/vnd.google.colaboratory.intrinsic+json": {
              "type": "string"
            }
          },
          "metadata": {}
        },
        {
          "output_type": "display_data",
          "data": {
            "text/plain": [
              "'Gemini Answer:'"
            ],
            "application/vnd.google.colaboratory.intrinsic+json": {
              "type": "string"
            }
          },
          "metadata": {}
        },
        {
          "output_type": "display_data",
          "data": {
            "text/plain": [
              "\"The article you provided does not contain information about the US Economy. The article discusses the following topics:\\n\\n* China's internet usage\\n* Ireland vs. USA rugby match\\n* Supercomputing\\n* Consumer electronics\\n\""
            ],
            "application/vnd.google.colaboratory.intrinsic+json": {
              "type": "string"
            }
          },
          "metadata": {}
        }
      ]
    },
    {
      "cell_type": "code",
      "source": [],
      "metadata": {
        "id": "LmPM9GTpiicH"
      },
      "id": "LmPM9GTpiicH",
      "execution_count": null,
      "outputs": []
    }
  ],
  "metadata": {
    "kernelspec": {
      "display_name": "Python 3",
      "language": "python",
      "name": "python3"
    },
    "language_info": {
      "codemirror_mode": {
        "name": "ipython",
        "version": 3
      },
      "file_extension": ".py",
      "mimetype": "text/x-python",
      "name": "python",
      "nbconvert_exporter": "python",
      "pygments_lexer": "ipython3",
      "version": "3.10.10"
    },
    "colab": {
      "provenance": [],
      "name": "student-03-454d0c9caf30 (Jan 4, 2025, 7:06:08 PM)"
    }
  },
  "nbformat": 4,
  "nbformat_minor": 5
}