{
  "cells": [
    {
      "cell_type": "code",
      "id": "sHGHM61beConOArKp3NoviqD",
      "metadata": {
        "tags": [],
        "id": "sHGHM61beConOArKp3NoviqD",
        "colab": {
          "base_uri": "https://localhost:8080/"
        },
        "executionInfo": {
          "status": "ok",
          "timestamp": 1735824262758,
          "user_tz": -330,
          "elapsed": 14904,
          "user": {
            "displayName": "",
            "userId": ""
          }
        },
        "outputId": "a94d1a87-78ca-4101-a8e0-38d16d2a26e3"
      },
      "source": [
        "PROJECT_ID = \"qwiklabs-gcp-00-21945ec1b775\"\n",
        "NETWORK_NAME = \"default\"\n",
        "PEERING_RANGE_NAME = \"cymbal-range\"\n",
        "\n",
        "# Reserve IP range\n",
        "! gcloud compute addresses create {PEERING_RANGE_NAME} --global --prefix-length=16 --network={NETWORK_NAME} --purpose=VPC_PEERING --project={PROJECT_ID} --description=\"peering range for cymbal demo\"\n",
        "\n",
        "# Set up peering with service networking\n",
        "! gcloud services vpc-peerings connect --service=servicenetworking.googleapis.com --network={NETWORK_NAME} --ranges={PEERING_RANGE_NAME} --project={PROJECT_ID}"
      ],
      "execution_count": 1,
      "outputs": [
        {
          "output_type": "stream",
          "name": "stdout",
          "text": [
            "\u001b[1;31mERROR:\u001b[0m (gcloud.compute.addresses.create) Could not fetch resource:\n",
            " - The resource 'projects/qwiklabs-gcp-00-21945ec1b775/global/addresses/cymbal-range' already exists\n",
            "\n",
            "API [servicenetworking.googleapis.com] not enabled on project [1057398310658]. \n",
            "Would you like to enable and retry (this will take a few minutes)? (y/N)?  y\n",
            "\n",
            "Enabling service [servicenetworking.googleapis.com] on project [1057398310658]...\n",
            "\u001b[1;31mERROR:\u001b[0m (gcloud.services.vpc-peerings.connect) PERMISSION_DENIED: Permission denied to enable service [servicenetworking.googleapis.com]\n",
            "Help Token: Af9utURrohGcxmwvap1r0-F0uNj8ny8-Ts4MH3_tklR4qlA_1lMieBFQzWc1Ms0n7YRlXMH9bBVbb8yPLW16mVx2kpqhzEHbilCkzpg0IKbldgYS. This command is authenticated as student-03-a3b9f4b0338c@qwiklabs.net which is the active account specified by the [core/account] property\n",
            "- '@type': type.googleapis.com/google.rpc.PreconditionFailure\n",
            "  violations:\n",
            "  - subject: ?error_code=110002&service=serviceusage.googleapis.com&permission=serviceusage.services.enable&resource=1057398310658\n",
            "    type: googleapis.com\n",
            "- '@type': type.googleapis.com/google.rpc.ErrorInfo\n",
            "  domain: serviceusage.googleapis.com\n",
            "  metadata:\n",
            "    permission: serviceusage.services.enable\n",
            "    resource: '1057398310658'\n",
            "    service: serviceusage.googleapis.com\n",
            "  reason: AUTH_PERMISSION_DENIED\n"
          ]
        }
      ]
    },
    {
      "cell_type": "code",
      "source": [
        "! pip install -U git+https://github.com/googleapis/python-aiplatform.git@main --user"
      ],
      "metadata": {
        "colab": {
          "base_uri": "https://localhost:8080/",
          "height": 974
        },
        "id": "IbVspbneLgmM",
        "executionInfo": {
          "status": "ok",
          "timestamp": 1735824315631,
          "user_tz": -330,
          "elapsed": 24173,
          "user": {
            "displayName": "",
            "userId": ""
          }
        },
        "outputId": "434ea217-7a39-408f-f60c-f3be0bfe3091"
      },
      "id": "IbVspbneLgmM",
      "execution_count": 2,
      "outputs": [
        {
          "output_type": "stream",
          "name": "stdout",
          "text": [
            "Collecting git+https://github.com/googleapis/python-aiplatform.git@main\n",
            "  Cloning https://github.com/googleapis/python-aiplatform.git (to revision main) to /tmp/pip-req-build-rlgn2p0k\n",
            "  Running command git clone --filter=blob:none --quiet https://github.com/googleapis/python-aiplatform.git /tmp/pip-req-build-rlgn2p0k\n",
            "  Resolved https://github.com/googleapis/python-aiplatform.git to commit 1eb493baa51b35e0e4df91a7ffbba3aa3f260ab6\n",
            "  Preparing metadata (setup.py) ... \u001b[?25l\u001b[?25hdone\n",
            "Requirement already satisfied: google-api-core!=2.0.*,!=2.1.*,!=2.2.*,!=2.3.*,!=2.4.*,!=2.5.*,!=2.6.*,!=2.7.*,<3.0.0dev,>=1.34.1 in /usr/local/lib/python3.10/dist-packages (from google-api-core[grpc]!=2.0.*,!=2.1.*,!=2.2.*,!=2.3.*,!=2.4.*,!=2.5.*,!=2.6.*,!=2.7.*,<3.0.0dev,>=1.34.1->google-cloud-aiplatform==1.75.0) (2.19.2)\n",
            "Requirement already satisfied: google-auth<3.0.0dev,>=2.14.1 in /usr/local/lib/python3.10/dist-packages (from google-cloud-aiplatform==1.75.0) (2.27.0)\n",
            "Requirement already satisfied: proto-plus<2.0.0dev,>=1.22.3 in /usr/local/lib/python3.10/dist-packages (from google-cloud-aiplatform==1.75.0) (1.25.0)\n",
            "Requirement already satisfied: protobuf!=4.21.0,!=4.21.1,!=4.21.2,!=4.21.3,!=4.21.4,!=4.21.5,<6.0.0dev,>=3.20.2 in /usr/local/lib/python3.10/dist-packages (from google-cloud-aiplatform==1.75.0) (4.25.5)\n",
            "Requirement already satisfied: packaging>=14.3 in /usr/local/lib/python3.10/dist-packages (from google-cloud-aiplatform==1.75.0) (24.2)\n",
            "Requirement already satisfied: google-cloud-storage<3.0.0dev,>=1.32.0 in /usr/local/lib/python3.10/dist-packages (from google-cloud-aiplatform==1.75.0) (2.8.0)\n",
            "Requirement already satisfied: google-cloud-bigquery!=3.20.0,<4.0.0dev,>=1.15.0 in /usr/local/lib/python3.10/dist-packages (from google-cloud-aiplatform==1.75.0) (3.25.0)\n",
            "Requirement already satisfied: google-cloud-resource-manager<3.0.0dev,>=1.3.3 in /usr/local/lib/python3.10/dist-packages (from google-cloud-aiplatform==1.75.0) (1.13.1)\n",
            "Requirement already satisfied: shapely<3.0.0dev in /usr/local/lib/python3.10/dist-packages (from google-cloud-aiplatform==1.75.0) (2.0.6)\n",
            "Requirement already satisfied: pydantic<3 in /usr/local/lib/python3.10/dist-packages (from google-cloud-aiplatform==1.75.0) (2.10.3)\n",
            "Requirement already satisfied: typing_extensions in /usr/local/lib/python3.10/dist-packages (from google-cloud-aiplatform==1.75.0) (4.12.2)\n",
            "Requirement already satisfied: docstring_parser<1 in /usr/local/lib/python3.10/dist-packages (from google-cloud-aiplatform==1.75.0) (0.16)\n",
            "Requirement already satisfied: googleapis-common-protos<2.0.dev0,>=1.56.2 in /usr/local/lib/python3.10/dist-packages (from google-api-core!=2.0.*,!=2.1.*,!=2.2.*,!=2.3.*,!=2.4.*,!=2.5.*,!=2.6.*,!=2.7.*,<3.0.0dev,>=1.34.1->google-api-core[grpc]!=2.0.*,!=2.1.*,!=2.2.*,!=2.3.*,!=2.4.*,!=2.5.*,!=2.6.*,!=2.7.*,<3.0.0dev,>=1.34.1->google-cloud-aiplatform==1.75.0) (1.66.0)\n",
            "Requirement already satisfied: requests<3.0.0.dev0,>=2.18.0 in /usr/local/lib/python3.10/dist-packages (from google-api-core!=2.0.*,!=2.1.*,!=2.2.*,!=2.3.*,!=2.4.*,!=2.5.*,!=2.6.*,!=2.7.*,<3.0.0dev,>=1.34.1->google-api-core[grpc]!=2.0.*,!=2.1.*,!=2.2.*,!=2.3.*,!=2.4.*,!=2.5.*,!=2.6.*,!=2.7.*,<3.0.0dev,>=1.34.1->google-cloud-aiplatform==1.75.0) (2.32.3)\n",
            "Requirement already satisfied: grpcio<2.0dev,>=1.33.2 in /usr/local/lib/python3.10/dist-packages (from google-api-core[grpc]!=2.0.*,!=2.1.*,!=2.2.*,!=2.3.*,!=2.4.*,!=2.5.*,!=2.6.*,!=2.7.*,<3.0.0dev,>=1.34.1->google-cloud-aiplatform==1.75.0) (1.68.1)\n",
            "Requirement already satisfied: grpcio-status<2.0.dev0,>=1.33.2 in /usr/local/lib/python3.10/dist-packages (from google-api-core[grpc]!=2.0.*,!=2.1.*,!=2.2.*,!=2.3.*,!=2.4.*,!=2.5.*,!=2.6.*,!=2.7.*,<3.0.0dev,>=1.34.1->google-cloud-aiplatform==1.75.0) (1.62.3)\n",
            "Requirement already satisfied: cachetools<6.0,>=2.0.0 in /usr/local/lib/python3.10/dist-packages (from google-auth<3.0.0dev,>=2.14.1->google-cloud-aiplatform==1.75.0) (5.5.0)\n",
            "Requirement already satisfied: pyasn1-modules>=0.2.1 in /usr/local/lib/python3.10/dist-packages (from google-auth<3.0.0dev,>=2.14.1->google-cloud-aiplatform==1.75.0) (0.4.1)\n",
            "Requirement already satisfied: rsa<5,>=3.1.4 in /usr/local/lib/python3.10/dist-packages (from google-auth<3.0.0dev,>=2.14.1->google-cloud-aiplatform==1.75.0) (4.9)\n",
            "Requirement already satisfied: google-cloud-core<3.0.0dev,>=1.6.0 in /usr/local/lib/python3.10/dist-packages (from google-cloud-bigquery!=3.20.0,<4.0.0dev,>=1.15.0->google-cloud-aiplatform==1.75.0) (2.4.1)\n",
            "Requirement already satisfied: google-resumable-media<3.0dev,>=0.6.0 in /usr/local/lib/python3.10/dist-packages (from google-cloud-bigquery!=3.20.0,<4.0.0dev,>=1.15.0->google-cloud-aiplatform==1.75.0) (2.7.2)\n",
            "Requirement already satisfied: python-dateutil<3.0dev,>=2.7.2 in /usr/local/lib/python3.10/dist-packages (from google-cloud-bigquery!=3.20.0,<4.0.0dev,>=1.15.0->google-cloud-aiplatform==1.75.0) (2.8.2)\n",
            "Requirement already satisfied: grpc-google-iam-v1<1.0.0dev,>=0.12.4 in /usr/local/lib/python3.10/dist-packages (from google-cloud-resource-manager<3.0.0dev,>=1.3.3->google-cloud-aiplatform==1.75.0) (0.13.1)\n",
            "Requirement already satisfied: annotated-types>=0.6.0 in /usr/local/lib/python3.10/dist-packages (from pydantic<3->google-cloud-aiplatform==1.75.0) (0.7.0)\n",
            "Requirement already satisfied: pydantic-core==2.27.1 in /usr/local/lib/python3.10/dist-packages (from pydantic<3->google-cloud-aiplatform==1.75.0) (2.27.1)\n",
            "Requirement already satisfied: numpy<3,>=1.14 in /usr/local/lib/python3.10/dist-packages (from shapely<3.0.0dev->google-cloud-aiplatform==1.75.0) (1.26.4)\n",
            "Requirement already satisfied: google-crc32c<2.0dev,>=1.0 in /usr/local/lib/python3.10/dist-packages (from google-resumable-media<3.0dev,>=0.6.0->google-cloud-bigquery!=3.20.0,<4.0.0dev,>=1.15.0->google-cloud-aiplatform==1.75.0) (1.6.0)\n",
            "Requirement already satisfied: pyasn1<0.7.0,>=0.4.6 in /usr/local/lib/python3.10/dist-packages (from pyasn1-modules>=0.2.1->google-auth<3.0.0dev,>=2.14.1->google-cloud-aiplatform==1.75.0) (0.6.1)\n",
            "Requirement already satisfied: six>=1.5 in /usr/local/lib/python3.10/dist-packages (from python-dateutil<3.0dev,>=2.7.2->google-cloud-bigquery!=3.20.0,<4.0.0dev,>=1.15.0->google-cloud-aiplatform==1.75.0) (1.17.0)\n",
            "Requirement already satisfied: charset-normalizer<4,>=2 in /usr/local/lib/python3.10/dist-packages (from requests<3.0.0.dev0,>=2.18.0->google-api-core!=2.0.*,!=2.1.*,!=2.2.*,!=2.3.*,!=2.4.*,!=2.5.*,!=2.6.*,!=2.7.*,<3.0.0dev,>=1.34.1->google-api-core[grpc]!=2.0.*,!=2.1.*,!=2.2.*,!=2.3.*,!=2.4.*,!=2.5.*,!=2.6.*,!=2.7.*,<3.0.0dev,>=1.34.1->google-cloud-aiplatform==1.75.0) (3.4.0)\n",
            "Requirement already satisfied: idna<4,>=2.5 in /usr/local/lib/python3.10/dist-packages (from requests<3.0.0.dev0,>=2.18.0->google-api-core!=2.0.*,!=2.1.*,!=2.2.*,!=2.3.*,!=2.4.*,!=2.5.*,!=2.6.*,!=2.7.*,<3.0.0dev,>=1.34.1->google-api-core[grpc]!=2.0.*,!=2.1.*,!=2.2.*,!=2.3.*,!=2.4.*,!=2.5.*,!=2.6.*,!=2.7.*,<3.0.0dev,>=1.34.1->google-cloud-aiplatform==1.75.0) (3.10)\n",
            "Requirement already satisfied: urllib3<3,>=1.21.1 in /usr/local/lib/python3.10/dist-packages (from requests<3.0.0.dev0,>=2.18.0->google-api-core!=2.0.*,!=2.1.*,!=2.2.*,!=2.3.*,!=2.4.*,!=2.5.*,!=2.6.*,!=2.7.*,<3.0.0dev,>=1.34.1->google-api-core[grpc]!=2.0.*,!=2.1.*,!=2.2.*,!=2.3.*,!=2.4.*,!=2.5.*,!=2.6.*,!=2.7.*,<3.0.0dev,>=1.34.1->google-cloud-aiplatform==1.75.0) (2.2.3)\n",
            "Requirement already satisfied: certifi>=2017.4.17 in /usr/local/lib/python3.10/dist-packages (from requests<3.0.0.dev0,>=2.18.0->google-api-core!=2.0.*,!=2.1.*,!=2.2.*,!=2.3.*,!=2.4.*,!=2.5.*,!=2.6.*,!=2.7.*,<3.0.0dev,>=1.34.1->google-api-core[grpc]!=2.0.*,!=2.1.*,!=2.2.*,!=2.3.*,!=2.4.*,!=2.5.*,!=2.6.*,!=2.7.*,<3.0.0dev,>=1.34.1->google-cloud-aiplatform==1.75.0) (2024.8.30)\n",
            "Building wheels for collected packages: google-cloud-aiplatform\n",
            "  Building wheel for google-cloud-aiplatform (setup.py) ... \u001b[?25l\u001b[?25hdone\n",
            "  Created wheel for google-cloud-aiplatform: filename=google_cloud_aiplatform-1.75.0-py2.py3-none-any.whl size=6854934 sha256=dc23f856f0bd45321ea07d92e0b0dd163d12fdfb75fd951c40d386fbc8325c73\n",
            "  Stored in directory: /tmp/pip-ephem-wheel-cache-bi_kjyin/wheels/37/8f/6d/f08d62dc5b559f664c7a756630645dbf5ca612fe1b294ccf8c\n",
            "Successfully built google-cloud-aiplatform\n",
            "Installing collected packages: google-cloud-aiplatform\n",
            "\u001b[33m  WARNING: The script tb-gcp-uploader is installed in '/root/.local/bin' which is not on PATH.\n",
            "  Consider adding this directory to PATH or, if you prefer to suppress this warning, use --no-warn-script-location.\u001b[0m\u001b[33m\n",
            "\u001b[0mSuccessfully installed google-cloud-aiplatform-1.75.0\n"
          ]
        },
        {
          "output_type": "display_data",
          "data": {
            "application/vnd.colab-display-data+json": {
              "pip_warning": {
                "packages": [
                  "google"
                ]
              },
              "id": "674d40fb4b5a4815a019874169c3dca7"
            }
          },
          "metadata": {}
        }
      ]
    },
    {
      "cell_type": "code",
      "source": [
        "! pip install -U grpcio-tools --user\n",
        "! pip install -U h5py --user\n",
        "! pip install proto-plus==1.24.0.dev1"
      ],
      "metadata": {
        "colab": {
          "base_uri": "https://localhost:8080/"
        },
        "id": "b98i7cB9MLBd",
        "executionInfo": {
          "status": "ok",
          "timestamp": 1735824371576,
          "user_tz": -330,
          "elapsed": 18228,
          "user": {
            "displayName": "",
            "userId": ""
          }
        },
        "outputId": "95445c30-0841-4ba8-fbc6-0e0b7a6a00da"
      },
      "id": "b98i7cB9MLBd",
      "execution_count": 1,
      "outputs": [
        {
          "output_type": "stream",
          "name": "stdout",
          "text": [
            "Collecting grpcio-tools\n",
            "  Downloading grpcio_tools-1.68.1-cp310-cp310-manylinux_2_17_x86_64.manylinux2014_x86_64.whl.metadata (5.3 kB)\n",
            "Collecting protobuf<6.0dev,>=5.26.1 (from grpcio-tools)\n",
            "  Downloading protobuf-5.29.2-cp38-abi3-manylinux2014_x86_64.whl.metadata (592 bytes)\n",
            "Requirement already satisfied: grpcio>=1.68.1 in /usr/local/lib/python3.10/dist-packages (from grpcio-tools) (1.68.1)\n",
            "Requirement already satisfied: setuptools in /usr/local/lib/python3.10/dist-packages (from grpcio-tools) (69.5.1)\n",
            "Downloading grpcio_tools-1.68.1-cp310-cp310-manylinux_2_17_x86_64.manylinux2014_x86_64.whl (2.4 MB)\n",
            "\u001b[2K   \u001b[90m━━━━━━━━━━━━━━━━━━━━━━━━━━━━━━━━━━━━━━━━\u001b[0m \u001b[32m2.4/2.4 MB\u001b[0m \u001b[31m29.8 MB/s\u001b[0m eta \u001b[36m0:00:00\u001b[0m\n",
            "\u001b[?25hDownloading protobuf-5.29.2-cp38-abi3-manylinux2014_x86_64.whl (319 kB)\n",
            "\u001b[2K   \u001b[90m━━━━━━━━━━━━━━━━━━━━━━━━━━━━━━━━━━━━━━━━\u001b[0m \u001b[32m319.7/319.7 kB\u001b[0m \u001b[31m24.5 MB/s\u001b[0m eta \u001b[36m0:00:00\u001b[0m\n",
            "\u001b[?25hInstalling collected packages: protobuf, grpcio-tools\n",
            "\u001b[31mERROR: pip's dependency resolver does not currently take into account all the packages that are installed. This behaviour is the source of the following dependency conflicts.\n",
            "tensorflow 2.17.1 requires protobuf!=4.21.0,!=4.21.1,!=4.21.2,!=4.21.3,!=4.21.4,!=4.21.5,<5.0.0dev,>=3.20.3, but you have protobuf 5.29.2 which is incompatible.\n",
            "tensorflow-metadata 1.13.1 requires protobuf<5,>=3.20.3, but you have protobuf 5.29.2 which is incompatible.\u001b[0m\u001b[31m\n",
            "\u001b[0mSuccessfully installed grpcio-tools-1.68.1 protobuf-5.29.2\n",
            "Requirement already satisfied: h5py in /usr/local/lib/python3.10/dist-packages (3.12.1)\n",
            "Requirement already satisfied: numpy>=1.19.3 in /usr/local/lib/python3.10/dist-packages (from h5py) (1.26.4)\n",
            "Collecting proto-plus==1.24.0.dev1\n",
            "  Downloading proto_plus-1.24.0.dev1-py3-none-any.whl.metadata (2.2 kB)\n",
            "Collecting protobuf<5.0.0dev,>=3.19.0 (from proto-plus==1.24.0.dev1)\n",
            "  Downloading protobuf-4.25.5-cp37-abi3-manylinux2014_x86_64.whl.metadata (541 bytes)\n",
            "Downloading proto_plus-1.24.0.dev1-py3-none-any.whl (49 kB)\n",
            "\u001b[2K   \u001b[90m━━━━━━━━━━━━━━━━━━━━━━━━━━━━━━━━━━━━━━━━\u001b[0m \u001b[32m49.7/49.7 kB\u001b[0m \u001b[31m4.0 MB/s\u001b[0m eta \u001b[36m0:00:00\u001b[0m\n",
            "\u001b[?25hDownloading protobuf-4.25.5-cp37-abi3-manylinux2014_x86_64.whl (294 kB)\n",
            "\u001b[2K   \u001b[90m━━━━━━━━━━━━━━━━━━━━━━━━━━━━━━━━━━━━━━━━\u001b[0m \u001b[32m294.6/294.6 kB\u001b[0m \u001b[31m11.9 MB/s\u001b[0m eta \u001b[36m0:00:00\u001b[0m\n",
            "\u001b[?25hInstalling collected packages: protobuf, proto-plus\n",
            "  Attempting uninstall: protobuf\n",
            "    Found existing installation: protobuf 5.29.2\n",
            "    Uninstalling protobuf-5.29.2:\n",
            "      Successfully uninstalled protobuf-5.29.2\n",
            "  Attempting uninstall: proto-plus\n",
            "    Found existing installation: proto-plus 1.25.0\n",
            "    Uninstalling proto-plus-1.25.0:\n",
            "      Successfully uninstalled proto-plus-1.25.0\n",
            "\u001b[31mERROR: pip's dependency resolver does not currently take into account all the packages that are installed. This behaviour is the source of the following dependency conflicts.\n",
            "grpcio-tools 1.68.1 requires protobuf<6.0dev,>=5.26.1, but you have protobuf 4.25.5 which is incompatible.\u001b[0m\u001b[31m\n",
            "\u001b[0mSuccessfully installed proto-plus-1.24.0.dev1 protobuf-4.25.5\n"
          ]
        }
      ]
    },
    {
      "cell_type": "code",
      "source": [
        "\n",
        "# Automatically restart kernel after installs\n",
        "import os\n",
        "\n",
        "if not os.getenv(\"IS_TESTING\"):\n",
        "    # Automatically restart kernel after installs\n",
        "    import IPython\n",
        "\n",
        "    app = IPython.Application.instance()\n",
        "    app.kernel.do_shutdown(True)"
      ],
      "metadata": {
        "id": "HtlHQ3t-MaIL",
        "executionInfo": {
          "status": "ok",
          "timestamp": 1735824375980,
          "user_tz": -330,
          "elapsed": 2,
          "user": {
            "displayName": "",
            "userId": ""
          }
        }
      },
      "id": "HtlHQ3t-MaIL",
      "execution_count": 2,
      "outputs": []
    },
    {
      "cell_type": "code",
      "source": [
        "BUCKET_NAME = \"gs://qwiklabs-gcp-00-21945ec1b775-aip\"\n",
        "REGION = \"us-west1\"\n",
        "PROJECT_ID = \"qwiklabs-gcp-00-21945ec1b775\"\n",
        "NETWORK_NAME = \"default\""
      ],
      "metadata": {
        "id": "4EhuxHDeMfyJ",
        "executionInfo": {
          "status": "ok",
          "timestamp": 1735824396715,
          "user_tz": -330,
          "elapsed": 4,
          "user": {
            "displayName": "",
            "userId": ""
          }
        }
      },
      "id": "4EhuxHDeMfyJ",
      "execution_count": 1,
      "outputs": []
    },
    {
      "cell_type": "code",
      "source": [
        "! gsutil mb -l $REGION -p $PROJECT_ID $BUCKET_NAME"
      ],
      "metadata": {
        "colab": {
          "base_uri": "https://localhost:8080/"
        },
        "id": "NWqXLxt0Mkwu",
        "executionInfo": {
          "status": "ok",
          "timestamp": 1735824412789,
          "user_tz": -330,
          "elapsed": 3796,
          "user": {
            "displayName": "",
            "userId": ""
          }
        },
        "outputId": "6dcfa9b1-e03f-402d-f14a-7b90847094cf"
      },
      "id": "NWqXLxt0Mkwu",
      "execution_count": 2,
      "outputs": [
        {
          "output_type": "stream",
          "name": "stdout",
          "text": [
            "Creating gs://qwiklabs-gcp-00-21945ec1b775-aip/...\n"
          ]
        }
      ]
    },
    {
      "cell_type": "code",
      "source": [
        "! gsutil ls -al $BUCKET_NAME"
      ],
      "metadata": {
        "id": "8PeHz-SLMn2a",
        "executionInfo": {
          "status": "ok",
          "timestamp": 1735824431615,
          "user_tz": -330,
          "elapsed": 2413,
          "user": {
            "displayName": "",
            "userId": ""
          }
        }
      },
      "id": "8PeHz-SLMn2a",
      "execution_count": 3,
      "outputs": []
    },
    {
      "cell_type": "code",
      "source": [
        "# Upgrade protobuf to the latest version\n",
        "!pip install --upgrade protobuf\n",
        "\n",
        "import time\n",
        "import grpc\n",
        "import h5py\n",
        "from google.cloud import aiplatform_v1\n",
        "from google.protobuf import struct_pb2"
      ],
      "metadata": {
        "colab": {
          "base_uri": "https://localhost:8080/"
        },
        "id": "KAdj93mcMsqQ",
        "executionInfo": {
          "status": "ok",
          "timestamp": 1735824450515,
          "user_tz": -330,
          "elapsed": 7666,
          "user": {
            "displayName": "",
            "userId": ""
          }
        },
        "outputId": "bf317360-5515-45f2-9e9f-e9b690cf0bbd"
      },
      "id": "KAdj93mcMsqQ",
      "execution_count": 4,
      "outputs": [
        {
          "output_type": "stream",
          "name": "stdout",
          "text": [
            "Requirement already satisfied: protobuf in /usr/local/lib/python3.10/dist-packages (4.25.5)\n",
            "Collecting protobuf\n",
            "  Using cached protobuf-5.29.2-cp38-abi3-manylinux2014_x86_64.whl.metadata (592 bytes)\n",
            "Using cached protobuf-5.29.2-cp38-abi3-manylinux2014_x86_64.whl (319 kB)\n",
            "Installing collected packages: protobuf\n",
            "  Attempting uninstall: protobuf\n",
            "    Found existing installation: protobuf 4.25.5\n",
            "    Uninstalling protobuf-4.25.5:\n",
            "      Successfully uninstalled protobuf-4.25.5\n",
            "\u001b[31mERROR: pip's dependency resolver does not currently take into account all the packages that are installed. This behaviour is the source of the following dependency conflicts.\n",
            "proto-plus 1.24.0.dev1 requires protobuf<5.0.0dev,>=3.19.0, but you have protobuf 5.29.2 which is incompatible.\n",
            "tensorflow 2.17.1 requires protobuf!=4.21.0,!=4.21.1,!=4.21.2,!=4.21.3,!=4.21.4,!=4.21.5,<5.0.0dev,>=3.20.3, but you have protobuf 5.29.2 which is incompatible.\n",
            "tensorflow-metadata 1.13.1 requires protobuf<5,>=3.20.3, but you have protobuf 5.29.2 which is incompatible.\u001b[0m\u001b[31m\n",
            "\u001b[0mSuccessfully installed protobuf-4.25.5\n"
          ]
        }
      ]
    },
    {
      "cell_type": "code",
      "source": [
        "REGION = \"us-west1\"\n",
        "ENDPOINT = \"{}-aiplatform.googleapis.com\".format(REGION)\n",
        "NETWORK_NAME = \"default\"\n",
        "\n",
        "\n",
        "AUTH_TOKEN = !gcloud auth print-access-token\n",
        "PROJECT_NUMBER = !gcloud projects list --filter=\"PROJECT_ID:'{PROJECT_ID}'\" --format='value(PROJECT_NUMBER)'\n",
        "PROJECT_NUMBER = PROJECT_NUMBER[0]\n",
        "\n",
        "PARENT = \"projects/{}/locations/{}\".format(PROJECT_ID, REGION)\n",
        "\n",
        "print(\"ENDPOINT: {}\".format(ENDPOINT))\n",
        "print(\"PROJECT_ID: {}\".format(PROJECT_ID))\n",
        "print(\"REGION: {}\".format(REGION))\n",
        "\n",
        "!gcloud config set project {PROJECT_ID} --quiet\n",
        "!gcloud config set ai_platform/region {REGION} --quiet"
      ],
      "metadata": {
        "colab": {
          "base_uri": "https://localhost:8080/"
        },
        "id": "Yy5FZ08gMwEI",
        "executionInfo": {
          "status": "ok",
          "timestamp": 1735824477710,
          "user_tz": -330,
          "elapsed": 4623,
          "user": {
            "displayName": "",
            "userId": ""
          }
        },
        "outputId": "5d0bdbb5-5b14-48eb-bff5-ba8e64c5765c"
      },
      "id": "Yy5FZ08gMwEI",
      "execution_count": 5,
      "outputs": [
        {
          "output_type": "stream",
          "name": "stdout",
          "text": [
            "ENDPOINT: us-west1-aiplatform.googleapis.com\n",
            "PROJECT_ID: qwiklabs-gcp-00-21945ec1b775\n",
            "REGION: us-west1\n",
            "Updated property [core/project].\n",
            "Updated property [ai_platform/region].\n"
          ]
        }
      ]
    },
    {
      "cell_type": "code",
      "source": [
        "! gsutil cp gs://cloud-samples-data/vertex-ai/matching_engine/glove-100-angular.hdf5 ."
      ],
      "metadata": {
        "colab": {
          "base_uri": "https://localhost:8080/"
        },
        "id": "bPAVbnzgM3XB",
        "executionInfo": {
          "status": "ok",
          "timestamp": 1735824572036,
          "user_tz": -330,
          "elapsed": 9740,
          "user": {
            "displayName": "",
            "userId": ""
          }
        },
        "outputId": "91e273dd-3c12-4395-802c-cab67dbdc2ac"
      },
      "id": "bPAVbnzgM3XB",
      "execution_count": 6,
      "outputs": [
        {
          "output_type": "stream",
          "name": "stdout",
          "text": [
            "Copying gs://cloud-samples-data/vertex-ai/matching_engine/glove-100-angular.hdf5...\n",
            "/ [0 files][    0.0 B/462.9 MiB]                                                \r==> NOTE: You are downloading one or more large file(s), which would\n",
            "run significantly faster if you enabled sliced object downloads. This\n",
            "feature is enabled by default but requires that compiled crcmod be\n",
            "installed (see \"gsutil help crcmod\").\n",
            "\n",
            "|\n",
            "Operation completed over 1 objects/462.9 MiB.                                    \n"
          ]
        }
      ]
    },
    {
      "cell_type": "code",
      "source": [
        "# The number of nearest neighbors to be retrieved from database for each query.\n",
        "k = 10\n",
        "\n",
        "h5 = h5py.File(\"glove-100-angular.hdf5\", \"r\")\n",
        "train = h5[\"train\"]\n",
        "test = h5[\"test\"]"
      ],
      "metadata": {
        "id": "5-wTmU-ONNKF",
        "executionInfo": {
          "status": "ok",
          "timestamp": 1735824613064,
          "user_tz": -330,
          "elapsed": 3,
          "user": {
            "displayName": "",
            "userId": ""
          }
        }
      },
      "id": "5-wTmU-ONNKF",
      "execution_count": 7,
      "outputs": []
    },
    {
      "cell_type": "code",
      "source": [
        "train[0]"
      ],
      "metadata": {
        "colab": {
          "base_uri": "https://localhost:8080/"
        },
        "id": "cR5YEhHZNZhg",
        "executionInfo": {
          "status": "ok",
          "timestamp": 1735824625990,
          "user_tz": -330,
          "elapsed": 2,
          "user": {
            "displayName": "",
            "userId": ""
          }
        },
        "outputId": "fab9f461-444e-41db-860c-8b94ff3bcc7f"
      },
      "id": "cR5YEhHZNZhg",
      "execution_count": 8,
      "outputs": [
        {
          "output_type": "execute_result",
          "data": {
            "text/plain": [
              "array([-0.11333  ,  0.48402  ,  0.090771 , -0.22439  ,  0.034206 ,\n",
              "       -0.55831  ,  0.041849 , -0.53573  ,  0.18809  , -0.58722  ,\n",
              "        0.015313 , -0.014555 ,  0.80842  , -0.038519 ,  0.75348  ,\n",
              "        0.70502  , -0.17863  ,  0.3222   ,  0.67575  ,  0.67198  ,\n",
              "        0.26044  ,  0.4187   , -0.34122  ,  0.2286   , -0.53529  ,\n",
              "        1.2582   , -0.091543 ,  0.19716  , -0.037454 , -0.3336   ,\n",
              "        0.31399  ,  0.36488  ,  0.71263  ,  0.1307   , -0.24654  ,\n",
              "       -0.52445  , -0.036091 ,  0.55068  ,  0.10017  ,  0.48095  ,\n",
              "        0.71104  , -0.053462 ,  0.22325  ,  0.30917  , -0.39926  ,\n",
              "        0.036634 , -0.35431  , -0.42795  ,  0.46444  ,  0.25586  ,\n",
              "        0.68257  , -0.20821  ,  0.38433  ,  0.055773 , -0.2539   ,\n",
              "       -0.20804  ,  0.52522  , -0.11399  , -0.3253   , -0.44104  ,\n",
              "        0.17528  ,  0.62255  ,  0.50237  , -0.7607   , -0.071786 ,\n",
              "        0.0080131, -0.13286  ,  0.50097  ,  0.18824  , -0.54722  ,\n",
              "       -0.42664  ,  0.4292   ,  0.14877  , -0.0072514, -0.16484  ,\n",
              "       -0.059798 ,  0.9895   , -0.61738  ,  0.054169 ,  0.48424  ,\n",
              "       -0.35084  , -0.27053  ,  0.37829  ,  0.11503  , -0.39613  ,\n",
              "        0.24266  ,  0.39147  , -0.075256 ,  0.65093  , -0.20822  ,\n",
              "       -0.17456  ,  0.53571  , -0.16537  ,  0.13582  , -0.56016  ,\n",
              "        0.016964 ,  0.1277   ,  0.94071  , -0.22608  , -0.021106 ],\n",
              "      dtype=float32)"
            ]
          },
          "metadata": {},
          "execution_count": 8
        }
      ]
    },
    {
      "cell_type": "code",
      "source": [
        "# Add restricts to each data point, in this demo, we only add one namespace and the allowlist is set to be the same as the id.\n",
        "# Later on, we will demo how to return only the allowlisted data points.\n",
        "# Split datapoins into two groups 'a' and 'b'. The datapoint whose ids are even are in group 'a', otherwise are in group 'b'\n",
        "# We will demo how to configure the query to return up to k data points for each group.\n",
        "with open(\"glove100.json\", \"w\") as f:\n",
        "    for i in range(len(train)):\n",
        "        f.write('{\"id\":\"' + str(i) + '\",')\n",
        "        f.write('\"embedding\":[' + \",\".join(str(x) for x in train[i]) + \"],\")\n",
        "        f.write('\"restricts\":[{\"namespace\": \"class\", \"allow\": [\"' + str(i) + '\"]}],')\n",
        "        f.write('\"crowding_tag\":' + ('\"a\"' if i % 2 == 0 else '\"b\"') + \"}\")\n",
        "        f.write(\"\\n\")\n",
        "        if i >= 100:\n",
        "            break"
      ],
      "metadata": {
        "id": "y6eVfbajNc0v",
        "executionInfo": {
          "status": "ok",
          "timestamp": 1735824658090,
          "user_tz": -330,
          "elapsed": 3,
          "user": {
            "displayName": "",
            "userId": ""
          }
        }
      },
      "id": "y6eVfbajNc0v",
      "execution_count": 9,
      "outputs": []
    },
    {
      "cell_type": "code",
      "source": [
        "# NOTE: Everything in this GCS DIR will be DELETED before uploading the data.\n",
        "\n",
        "! gsutil rm -rf {BUCKET_NAME}/*"
      ],
      "metadata": {
        "colab": {
          "base_uri": "https://localhost:8080/"
        },
        "id": "WL51fmC7NkgX",
        "executionInfo": {
          "status": "ok",
          "timestamp": 1735824716718,
          "user_tz": -330,
          "elapsed": 2375,
          "user": {
            "displayName": "",
            "userId": ""
          }
        },
        "outputId": "9a12d608-ad2c-45e0-ba7f-8b3e9d98e6e3"
      },
      "id": "WL51fmC7NkgX",
      "execution_count": 10,
      "outputs": [
        {
          "output_type": "stream",
          "name": "stdout",
          "text": [
            "CommandException: 1 files/objects could not be removed.\n"
          ]
        }
      ]
    },
    {
      "cell_type": "code",
      "source": [
        "! gsutil cp glove100.json {BUCKET_NAME}/glove100.json"
      ],
      "metadata": {
        "colab": {
          "base_uri": "https://localhost:8080/"
        },
        "id": "fLGUywUNNyV8",
        "executionInfo": {
          "status": "ok",
          "timestamp": 1735824735015,
          "user_tz": -330,
          "elapsed": 2241,
          "user": {
            "displayName": "",
            "userId": ""
          }
        },
        "outputId": "d357b627-f380-4414-8032-2397524a1795"
      },
      "id": "fLGUywUNNyV8",
      "execution_count": 11,
      "outputs": [
        {
          "output_type": "stream",
          "name": "stdout",
          "text": [
            "Copying file://glove100.json [Content-Type=application/json]...\n",
            "/ [0 files][    0.0 B/ 93.1 KiB]                                                \r/ [1 files][ 93.1 KiB/ 93.1 KiB]                                                \r\n",
            "Operation completed over 1 objects/93.1 KiB.                                     \n"
          ]
        }
      ]
    },
    {
      "cell_type": "code",
      "source": [
        "! gsutil ls {BUCKET_NAME}"
      ],
      "metadata": {
        "colab": {
          "base_uri": "https://localhost:8080/"
        },
        "id": "zw5fqTkrN2wD",
        "executionInfo": {
          "status": "ok",
          "timestamp": 1735824794456,
          "user_tz": -330,
          "elapsed": 2223,
          "user": {
            "displayName": "",
            "userId": ""
          }
        },
        "outputId": "7be171c5-9a2d-49b2-d6f5-68c367584b7a"
      },
      "id": "zw5fqTkrN2wD",
      "execution_count": 12,
      "outputs": [
        {
          "output_type": "stream",
          "name": "stdout",
          "text": [
            "gs://qwiklabs-gcp-00-21945ec1b775-aip/glove100.json\n"
          ]
        }
      ]
    },
    {
      "cell_type": "code",
      "source": [
        "index_client = aiplatform_v1.IndexServiceClient(\n",
        "    client_options=dict(api_endpoint=ENDPOINT)\n",
        ")"
      ],
      "metadata": {
        "id": "qwoFGf5qOFWn",
        "executionInfo": {
          "status": "ok",
          "timestamp": 1735824804290,
          "user_tz": -330,
          "elapsed": 2,
          "user": {
            "displayName": "",
            "userId": ""
          }
        }
      },
      "id": "qwoFGf5qOFWn",
      "execution_count": 13,
      "outputs": []
    },
    {
      "cell_type": "code",
      "source": [
        "DIMENSIONS = 100\n",
        "DISPLAY_NAME = \"glove_100_1\""
      ],
      "metadata": {
        "id": "k8TNOYwwOIQ0",
        "executionInfo": {
          "status": "ok",
          "timestamp": 1735824831779,
          "user_tz": -330,
          "elapsed": 3,
          "user": {
            "displayName": "",
            "userId": ""
          }
        }
      },
      "id": "k8TNOYwwOIQ0",
      "execution_count": 14,
      "outputs": []
    },
    {
      "cell_type": "code",
      "source": [
        "treeAhConfig = struct_pb2.Struct(\n",
        "    fields={\n",
        "        \"leafNodeEmbeddingCount\": struct_pb2.Value(number_value=500),\n",
        "        \"leafNodesToSearchPercent\": struct_pb2.Value(number_value=7),\n",
        "    }\n",
        ")\n",
        "\n",
        "algorithmConfig = struct_pb2.Struct(\n",
        "    fields={\"treeAhConfig\": struct_pb2.Value(struct_value=treeAhConfig)}\n",
        ")\n",
        "\n",
        "config = struct_pb2.Struct(\n",
        "    fields={\n",
        "        \"dimensions\": struct_pb2.Value(number_value=DIMENSIONS),\n",
        "        \"approximateNeighborsCount\": struct_pb2.Value(number_value=150),\n",
        "        \"distanceMeasureType\": struct_pb2.Value(string_value=\"DOT_PRODUCT_DISTANCE\"),\n",
        "        \"algorithmConfig\": struct_pb2.Value(struct_value=algorithmConfig),\n",
        "    }\n",
        ")\n",
        "\n",
        "metadata = struct_pb2.Struct(\n",
        "    fields={\n",
        "        \"config\": struct_pb2.Value(struct_value=config),\n",
        "        \"contentsDeltaUri\": struct_pb2.Value(string_value=BUCKET_NAME),\n",
        "    }\n",
        ")\n",
        "\n",
        "ann_index = {\n",
        "    \"display_name\": DISPLAY_NAME,\n",
        "    \"description\": \"Glove 100 ANN index\",\n",
        "    \"metadata\": struct_pb2.Value(struct_value=metadata),\n",
        "    \"index_update_method\": aiplatform_v1.Index.IndexUpdateMethod.STREAM_UPDATE,\n",
        "}"
      ],
      "metadata": {
        "id": "hxp_Pg-zOPBw",
        "executionInfo": {
          "status": "ok",
          "timestamp": 1735824841972,
          "user_tz": -330,
          "elapsed": 2,
          "user": {
            "displayName": "",
            "userId": ""
          }
        }
      },
      "id": "hxp_Pg-zOPBw",
      "execution_count": 15,
      "outputs": []
    },
    {
      "cell_type": "code",
      "source": [
        "ann_index = index_client.create_index(parent=PARENT, index=ann_index)"
      ],
      "metadata": {
        "id": "kGsxB-EWORep",
        "executionInfo": {
          "status": "ok",
          "timestamp": 1735824965839,
          "user_tz": -330,
          "elapsed": 3,
          "user": {
            "displayName": "",
            "userId": ""
          }
        }
      },
      "id": "kGsxB-EWORep",
      "execution_count": 16,
      "outputs": []
    },
    {
      "cell_type": "code",
      "source": [
        "ann_index.result()"
      ],
      "metadata": {
        "colab": {
          "base_uri": "https://localhost:8080/"
        },
        "id": "f6TO0QQtOvoF",
        "executionInfo": {
          "status": "ok",
          "timestamp": 1735825150167,
          "user_tz": -330,
          "elapsed": 175227,
          "user": {
            "displayName": "",
            "userId": ""
          }
        },
        "outputId": "4ff399ed-e04c-4cc9-8cdc-29ffd6fefb10"
      },
      "id": "f6TO0QQtOvoF",
      "execution_count": 17,
      "outputs": [
        {
          "output_type": "execute_result",
          "data": {
            "text/plain": [
              "name: \"projects/363129122065/locations/us-west1/indexes/6156183196103868416\"\n",
              "display_name: \"glove_100_1\"\n",
              "description: \"Glove 100 ANN index\"\n",
              "metadata_schema_uri: \"gs://google-cloud-aiplatform/schema/matchingengine/metadata/nearest_neighbor_search_1.0.0.yaml\"\n",
              "metadata {\n",
              "  struct_value {\n",
              "    fields {\n",
              "      key: \"config\"\n",
              "      value {\n",
              "        struct_value {\n",
              "          fields {\n",
              "            key: \"shardSize\"\n",
              "            value {\n",
              "              string_value: \"SHARD_SIZE_MEDIUM\"\n",
              "            }\n",
              "          }\n",
              "          fields {\n",
              "            key: \"distanceMeasureType\"\n",
              "            value {\n",
              "              string_value: \"DOT_PRODUCT_DISTANCE\"\n",
              "            }\n",
              "          }\n",
              "          fields {\n",
              "            key: \"dimensions\"\n",
              "            value {\n",
              "              number_value: 100\n",
              "            }\n",
              "          }\n",
              "          fields {\n",
              "            key: \"approximateNeighborsCount\"\n",
              "            value {\n",
              "              number_value: 150\n",
              "            }\n",
              "          }\n",
              "          fields {\n",
              "            key: \"algorithmConfig\"\n",
              "            value {\n",
              "              struct_value {\n",
              "                fields {\n",
              "                  key: \"treeAhConfig\"\n",
              "                  value {\n",
              "                    struct_value {\n",
              "                      fields {\n",
              "                        key: \"leafNodesToSearchPercent\"\n",
              "                        value {\n",
              "                          number_value: 7\n",
              "                        }\n",
              "                      }\n",
              "                      fields {\n",
              "                        key: \"leafNodeEmbeddingCount\"\n",
              "                        value {\n",
              "                          string_value: \"500\"\n",
              "                        }\n",
              "                      }\n",
              "                    }\n",
              "                  }\n",
              "                }\n",
              "              }\n",
              "            }\n",
              "          }\n",
              "        }\n",
              "      }\n",
              "    }\n",
              "  }\n",
              "}\n",
              "index_update_method: STREAM_UPDATE\n",
              "encryption_spec {\n",
              "}"
            ]
          },
          "metadata": {},
          "execution_count": 17
        }
      ]
    },
    {
      "cell_type": "code",
      "source": [
        "INDEX_RESOURCE_NAME = ann_index.result().name\n",
        "INDEX_RESOURCE_NAME"
      ],
      "metadata": {
        "colab": {
          "base_uri": "https://localhost:8080/",
          "height": 35
        },
        "id": "pMlWlPQ0Ox6J",
        "executionInfo": {
          "status": "ok",
          "timestamp": 1735825380037,
          "user_tz": -330,
          "elapsed": 6,
          "user": {
            "displayName": "",
            "userId": ""
          }
        },
        "outputId": "74a3073c-e7f2-41ff-8503-41a65f634a77"
      },
      "id": "pMlWlPQ0Ox6J",
      "execution_count": 18,
      "outputs": [
        {
          "output_type": "execute_result",
          "data": {
            "text/plain": [
              "'projects/363129122065/locations/us-west1/indexes/6156183196103868416'"
            ],
            "application/vnd.google.colaboratory.intrinsic+json": {
              "type": "string"
            }
          },
          "metadata": {},
          "execution_count": 18
        }
      ]
    },
    {
      "cell_type": "code",
      "source": [
        "index_endpoint_client = aiplatform_v1.IndexEndpointServiceClient(\n",
        "    client_options=dict(api_endpoint=ENDPOINT)\n",
        ")"
      ],
      "metadata": {
        "id": "b2FjyvN2QUy3",
        "executionInfo": {
          "status": "ok",
          "timestamp": 1735825389449,
          "user_tz": -330,
          "elapsed": 3,
          "user": {
            "displayName": "",
            "userId": ""
          }
        }
      },
      "id": "b2FjyvN2QUy3",
      "execution_count": 19,
      "outputs": []
    },
    {
      "cell_type": "code",
      "source": [
        "VPC_NETWORK_NAME = \"projects/{}/global/networks/{}\".format(PROJECT_NUMBER, NETWORK_NAME)\n",
        "VPC_NETWORK_NAME"
      ],
      "metadata": {
        "colab": {
          "base_uri": "https://localhost:8080/",
          "height": 35
        },
        "id": "G98Z47kkQXLY",
        "executionInfo": {
          "status": "ok",
          "timestamp": 1735825407068,
          "user_tz": -330,
          "elapsed": 6,
          "user": {
            "displayName": "",
            "userId": ""
          }
        },
        "outputId": "dfcc2c88-bc80-493f-cb63-abd542a42302"
      },
      "id": "G98Z47kkQXLY",
      "execution_count": 20,
      "outputs": [
        {
          "output_type": "execute_result",
          "data": {
            "text/plain": [
              "'projects/363129122065/global/networks/default'"
            ],
            "application/vnd.google.colaboratory.intrinsic+json": {
              "type": "string"
            }
          },
          "metadata": {},
          "execution_count": 20
        }
      ]
    },
    {
      "cell_type": "code",
      "source": [
        "index_endpoint = {\n",
        "    \"display_name\": \"index_endpoint_for_demo\",\n",
        "    \"network\": VPC_NETWORK_NAME,\n",
        "}"
      ],
      "metadata": {
        "id": "G4SrBld9QbYk",
        "executionInfo": {
          "status": "ok",
          "timestamp": 1735825415940,
          "user_tz": -330,
          "elapsed": 3,
          "user": {
            "displayName": "",
            "userId": ""
          }
        }
      },
      "id": "G4SrBld9QbYk",
      "execution_count": 21,
      "outputs": []
    },
    {
      "cell_type": "code",
      "source": [
        "r = index_endpoint_client.create_index_endpoint(\n",
        "    parent=PARENT, index_endpoint=index_endpoint\n",
        ")"
      ],
      "metadata": {
        "id": "P7ArswbaQdm7",
        "executionInfo": {
          "status": "ok",
          "timestamp": 1735825431296,
          "user_tz": -330,
          "elapsed": 2,
          "user": {
            "displayName": "",
            "userId": ""
          }
        }
      },
      "id": "P7ArswbaQdm7",
      "execution_count": 22,
      "outputs": []
    },
    {
      "cell_type": "code",
      "source": [
        "r.result()"
      ],
      "metadata": {
        "colab": {
          "base_uri": "https://localhost:8080/"
        },
        "id": "0YH8w6AwQhYe",
        "executionInfo": {
          "status": "ok",
          "timestamp": 1735825441030,
          "user_tz": -330,
          "elapsed": 3,
          "user": {
            "displayName": "",
            "userId": ""
          }
        },
        "outputId": "08a6ba53-e710-43fc-e1ad-d360c70e60e1"
      },
      "id": "0YH8w6AwQhYe",
      "execution_count": 23,
      "outputs": [
        {
          "output_type": "execute_result",
          "data": {
            "text/plain": [
              "name: \"projects/363129122065/locations/us-west1/indexEndpoints/8277783240874393600\"\n",
              "display_name: \"index_endpoint_for_demo\"\n",
              "network: \"projects/363129122065/global/networks/default\"\n",
              "encryption_spec {\n",
              "}"
            ]
          },
          "metadata": {},
          "execution_count": 23
        }
      ]
    },
    {
      "cell_type": "code",
      "source": [
        "INDEX_ENDPOINT_NAME = r.result().name\n",
        "INDEX_ENDPOINT_NAME"
      ],
      "metadata": {
        "colab": {
          "base_uri": "https://localhost:8080/",
          "height": 35
        },
        "id": "iixq2JyFQjza",
        "executionInfo": {
          "status": "ok",
          "timestamp": 1735825450033,
          "user_tz": -330,
          "elapsed": 4,
          "user": {
            "displayName": "",
            "userId": ""
          }
        },
        "outputId": "d7c640f9-e96c-4448-e5f1-8747421a7c00"
      },
      "id": "iixq2JyFQjza",
      "execution_count": 24,
      "outputs": [
        {
          "output_type": "execute_result",
          "data": {
            "text/plain": [
              "'projects/363129122065/locations/us-west1/indexEndpoints/8277783240874393600'"
            ],
            "application/vnd.google.colaboratory.intrinsic+json": {
              "type": "string"
            }
          },
          "metadata": {},
          "execution_count": 24
        }
      ]
    },
    {
      "cell_type": "code",
      "source": [
        "DEPLOYED_INDEX_ID = \"stream_update_glove_deployed\""
      ],
      "metadata": {
        "id": "kRi3CKNQQl_f",
        "executionInfo": {
          "status": "ok",
          "timestamp": 1735825479116,
          "user_tz": -330,
          "elapsed": 3,
          "user": {
            "displayName": "",
            "userId": ""
          }
        }
      },
      "id": "kRi3CKNQQl_f",
      "execution_count": 25,
      "outputs": []
    },
    {
      "cell_type": "code",
      "source": [
        "deploy_ann_index = {\n",
        "    \"id\": DEPLOYED_INDEX_ID,\n",
        "    \"display_name\": DEPLOYED_INDEX_ID,\n",
        "    \"index\": INDEX_RESOURCE_NAME,\n",
        "}"
      ],
      "metadata": {
        "id": "z-omkLOBQtEV",
        "executionInfo": {
          "status": "ok",
          "timestamp": 1735825486078,
          "user_tz": -330,
          "elapsed": 2,
          "user": {
            "displayName": "",
            "userId": ""
          }
        }
      },
      "id": "z-omkLOBQtEV",
      "execution_count": 26,
      "outputs": []
    },
    {
      "cell_type": "code",
      "source": [
        "r = index_endpoint_client.deploy_index(\n",
        "    index_endpoint=INDEX_ENDPOINT_NAME, deployed_index=deploy_ann_index\n",
        ")"
      ],
      "metadata": {
        "id": "PDNNKcv7Quwo",
        "executionInfo": {
          "status": "ok",
          "timestamp": 1735825494613,
          "user_tz": -330,
          "elapsed": 583,
          "user": {
            "displayName": "",
            "userId": ""
          }
        }
      },
      "id": "PDNNKcv7Quwo",
      "execution_count": 27,
      "outputs": []
    },
    {
      "cell_type": "code",
      "source": [
        "# Poll the operation until it's done successfullly.\n",
        "\n",
        "while True:\n",
        "    if r.done():\n",
        "        break\n",
        "    print(\"Poll the operation to deploy index...\")\n",
        "    time.sleep(60)\n",
        ""
      ],
      "metadata": {
        "colab": {
          "base_uri": "https://localhost:8080/"
        },
        "id": "FVC0ax-HQwti",
        "executionInfo": {
          "status": "ok",
          "timestamp": 1735826943747,
          "user_tz": -330,
          "elapsed": 1442395,
          "user": {
            "displayName": "",
            "userId": ""
          }
        },
        "outputId": "29fb0802-5e2b-41ba-cb7e-7d6479ab5e15"
      },
      "id": "FVC0ax-HQwti",
      "execution_count": 28,
      "outputs": [
        {
          "output_type": "stream",
          "name": "stdout",
          "text": [
            "Poll the operation to deploy index...\n",
            "Poll the operation to deploy index...\n",
            "Poll the operation to deploy index...\n",
            "Poll the operation to deploy index...\n",
            "Poll the operation to deploy index...\n",
            "Poll the operation to deploy index...\n",
            "Poll the operation to deploy index...\n",
            "Poll the operation to deploy index...\n",
            "Poll the operation to deploy index...\n",
            "Poll the operation to deploy index...\n",
            "Poll the operation to deploy index...\n",
            "Poll the operation to deploy index...\n",
            "Poll the operation to deploy index...\n",
            "Poll the operation to deploy index...\n",
            "Poll the operation to deploy index...\n",
            "Poll the operation to deploy index...\n",
            "Poll the operation to deploy index...\n",
            "Poll the operation to deploy index...\n",
            "Poll the operation to deploy index...\n",
            "Poll the operation to deploy index...\n",
            "Poll the operation to deploy index...\n",
            "Poll the operation to deploy index...\n",
            "Poll the operation to deploy index...\n",
            "Poll the operation to deploy index...\n"
          ]
        }
      ]
    },
    {
      "cell_type": "code",
      "source": [
        "r.result()"
      ],
      "metadata": {
        "colab": {
          "base_uri": "https://localhost:8080/"
        },
        "id": "BiPhgPKZQygp",
        "executionInfo": {
          "status": "ok",
          "timestamp": 1735826953196,
          "user_tz": -330,
          "elapsed": 640,
          "user": {
            "displayName": "",
            "userId": ""
          }
        },
        "outputId": "650b53b4-9b78-4bf7-ff0b-5055c92ae622"
      },
      "id": "BiPhgPKZQygp",
      "execution_count": 29,
      "outputs": [
        {
          "output_type": "execute_result",
          "data": {
            "text/plain": [
              "deployed_index {\n",
              "  id: \"stream_update_glove_deployed\"\n",
              "}"
            ]
          },
          "metadata": {},
          "execution_count": 29
        }
      ]
    },
    {
      "cell_type": "code",
      "source": [
        "%%writefile match_service.proto\n",
        "\n",
        "syntax = \"proto3\";\n",
        "\n",
        "package google.cloud.aiplatform.container.v1;\n",
        "\n",
        "// MatchService is a Google managed service for efficient vector similarity\n",
        "// search at scale.\n",
        "service MatchService {\n",
        "  // Returns the nearest neighbors for the query. If it is a sharded\n",
        "  // deployment, calls the other shards and aggregates the responses.\n",
        "  rpc Match(MatchRequest) returns (MatchResponse) {}\n",
        "}\n",
        "\n",
        "// Parameters for a match query.\n",
        "message MatchRequest {\n",
        "  // The ID of the DeploydIndex that will serve the request.\n",
        "  // This MatchRequest is sent to a specific IndexEndpoint of the Control API,\n",
        "  // as per the IndexEndpoint.network. That IndexEndpoint also has\n",
        "  // IndexEndpoint.deployed_indexes, and each such index has an\n",
        "  // DeployedIndex.id field.\n",
        "  // The value of the field below must equal one of the DeployedIndex.id\n",
        "  // fields of the IndexEndpoint that is being called for this request.\n",
        "  string deployed_index_id = 1;\n",
        "\n",
        "  // The embedding values.\n",
        "  repeated float float_val = 2;\n",
        "\n",
        "  // The number of nearest neighbors to be retrieved from database for\n",
        "  // each query. If not set, will use the default from\n",
        "  // the service configuration.\n",
        "  int32 num_neighbors = 3;\n",
        "\n",
        "  // The list of restricts.\n",
        "  repeated Namespace restricts = 4;\n",
        "\n",
        "  // Crowding is a constraint on a neighbor list produced by nearest neighbor\n",
        "  // search requiring that no more than some value k' of the k neighbors\n",
        "  // returned have the same value of crowding_attribute.\n",
        "  // It's used for improving result diversity.\n",
        "  // This field is the maximum number of matches with the same crowding tag.\n",
        "  int32 per_crowding_attribute_num_neighbors = 5;\n",
        "\n",
        "  // The number of neighbors to find via approximate search before\n",
        "  // exact reordering is performed. If not set, the default value from scam\n",
        "  // config is used; if set, this value must be > 0.\n",
        "  int32 approx_num_neighbors = 6;\n",
        "\n",
        "  // The fraction of the number of leaves to search, set at query time allows\n",
        "  // user to tune search performance. This value increase result in both search\n",
        "  // accuracy and latency increase. The value should be between 0.0 and 1.0. If\n",
        "  // not set or set to 0.0, query uses the default value specified in\n",
        "  // NearestNeighborSearchConfig.TreeAHConfig.leaf_nodes_to_search_percent.\n",
        "  int32 leaf_nodes_to_search_percent_override = 7;\n",
        "}\n",
        "\n",
        "// Response of a match query.\n",
        "message MatchResponse {\n",
        "  message Neighbor {\n",
        "    // The ids of the matches.\n",
        "    string id = 1;\n",
        "\n",
        "    // The distances of the matches.\n",
        "    double distance = 2;\n",
        "  }\n",
        "  // All its neighbors.\n",
        "  repeated Neighbor neighbor = 1;\n",
        "}\n",
        "\n",
        "// Namespace specifies the rules for determining the datapoints that are\n",
        "// eligible for each matching query, overall query is an AND across namespaces.\n",
        "message Namespace {\n",
        "  // The string name of the namespace that this proto is specifying,\n",
        "  // such as \"color\", \"shape\", \"geo\", or \"tags\".\n",
        "  string name = 1;\n",
        "\n",
        "  // The allowed tokens in the namespace.\n",
        "  repeated string allow_tokens = 2;\n",
        "\n",
        "  // The denied tokens in the namespace.\n",
        "  // The denied tokens have exactly the same format as the token fields, but\n",
        "  // represents a negation. When a token is denied, then matches will be\n",
        "  // excluded whenever the other datapoint has that token.\n",
        "  //\n",
        "  // For example, if a query specifies {color: red, blue, !purple}, then that\n",
        "  // query will match datapoints that are red or blue, but if those points are\n",
        "  // also purple, then they will be excluded even if they are red/blue.\n",
        "  repeated string deny_tokens = 3;\n",
        "}"
      ],
      "metadata": {
        "colab": {
          "base_uri": "https://localhost:8080/"
        },
        "id": "xJjFDdPyR9Qy",
        "executionInfo": {
          "status": "ok",
          "timestamp": 1735826989921,
          "user_tz": -330,
          "elapsed": 586,
          "user": {
            "displayName": "",
            "userId": ""
          }
        },
        "outputId": "99efd77e-5efa-4dd0-85a5-99fd3deaaf97"
      },
      "id": "xJjFDdPyR9Qy",
      "execution_count": 30,
      "outputs": [
        {
          "output_type": "stream",
          "name": "stdout",
          "text": [
            "Writing match_service.proto\n"
          ]
        }
      ]
    },
    {
      "cell_type": "code",
      "source": [
        "! git clone https://github.com/googleapis/googleapis.git"
      ],
      "metadata": {
        "colab": {
          "base_uri": "https://localhost:8080/"
        },
        "id": "0hcrE9frR-Mv",
        "executionInfo": {
          "status": "ok",
          "timestamp": 1735827048432,
          "user_tz": -330,
          "elapsed": 36565,
          "user": {
            "displayName": "",
            "userId": ""
          }
        },
        "outputId": "cd01bbfc-d637-4e68-f9a8-3d1e82db2aad"
      },
      "id": "0hcrE9frR-Mv",
      "execution_count": 31,
      "outputs": [
        {
          "output_type": "stream",
          "name": "stdout",
          "text": [
            "Cloning into 'googleapis'...\n",
            "remote: Enumerating objects: 237327, done.\u001b[K\n",
            "remote: Counting objects: 100% (12721/12721), done.\u001b[K\n",
            "remote: Compressing objects: 100% (442/442), done.\u001b[K\n",
            "remote: Total 237327 (delta 12314), reused 12280 (delta 12279), pack-reused 224606 (from 2)\u001b[K\n",
            "Receiving objects: 100% (237327/237327), 208.22 MiB | 23.63 MiB/s, done.\n",
            "Resolving deltas: 100% (199983/199983), done.\n"
          ]
        }
      ]
    },
    {
      "cell_type": "code",
      "source": [
        "! python -m grpc_tools.protoc -I=. --proto_path=./googleapis --python_out=. --grpc_python_out=. match_service.proto"
      ],
      "metadata": {
        "id": "-AEPzDdeSBKV",
        "executionInfo": {
          "status": "ok",
          "timestamp": 1735827061363,
          "user_tz": -330,
          "elapsed": 587,
          "user": {
            "displayName": "",
            "userId": ""
          }
        }
      },
      "id": "-AEPzDdeSBKV",
      "execution_count": 32,
      "outputs": []
    },
    {
      "cell_type": "code",
      "source": [
        "DEPLOYED_INDEX_SERVER_IP = (\n",
        "    list(index_endpoint_client.list_index_endpoints(parent=PARENT))[0]\n",
        "    .deployed_indexes[0]\n",
        "    .private_endpoints.match_grpc_address\n",
        ")\n",
        "DEPLOYED_INDEX_SERVER_IP"
      ],
      "metadata": {
        "colab": {
          "base_uri": "https://localhost:8080/",
          "height": 35
        },
        "id": "VZrPqBacSDmq",
        "executionInfo": {
          "status": "ok",
          "timestamp": 1735827065889,
          "user_tz": -330,
          "elapsed": 631,
          "user": {
            "displayName": "",
            "userId": ""
          }
        },
        "outputId": "19c36d27-83ca-4b3d-e2c8-02ad1d47ad31"
      },
      "id": "VZrPqBacSDmq",
      "execution_count": 33,
      "outputs": [
        {
          "output_type": "execute_result",
          "data": {
            "text/plain": [
              "'10.14.0.14'"
            ],
            "application/vnd.google.colaboratory.intrinsic+json": {
              "type": "string"
            }
          },
          "metadata": {},
          "execution_count": 33
        }
      ]
    },
    {
      "cell_type": "code",
      "source": [
        "import match_service_pb2\n",
        "import match_service_pb2_grpc\n",
        "\n",
        "channel = grpc.insecure_channel(\"{}:10000\".format(DEPLOYED_INDEX_SERVER_IP))\n",
        "stub = match_service_pb2_grpc.MatchServiceStub(channel)"
      ],
      "metadata": {
        "id": "pY8TZGgASFp5",
        "executionInfo": {
          "status": "ok",
          "timestamp": 1735827073374,
          "user_tz": -330,
          "elapsed": 574,
          "user": {
            "displayName": "",
            "userId": ""
          }
        }
      },
      "id": "pY8TZGgASFp5",
      "execution_count": 34,
      "outputs": []
    },
    {
      "cell_type": "code",
      "source": [
        "# Test query\n",
        "query = [\n",
        "    -0.11333,\n",
        "    0.48402,\n",
        "    0.090771,\n",
        "    -0.22439,\n",
        "    0.034206,\n",
        "    -0.55831,\n",
        "    0.041849,\n",
        "    -0.53573,\n",
        "    0.18809,\n",
        "    -0.58722,\n",
        "    0.015313,\n",
        "    -0.014555,\n",
        "    0.80842,\n",
        "    -0.038519,\n",
        "    0.75348,\n",
        "    0.70502,\n",
        "    -0.17863,\n",
        "    0.3222,\n",
        "    0.67575,\n",
        "    0.67198,\n",
        "    0.26044,\n",
        "    0.4187,\n",
        "    -0.34122,\n",
        "    0.2286,\n",
        "    -0.53529,\n",
        "    1.2582,\n",
        "    -0.091543,\n",
        "    0.19716,\n",
        "    -0.037454,\n",
        "    -0.3336,\n",
        "    0.31399,\n",
        "    0.36488,\n",
        "    0.71263,\n",
        "    0.1307,\n",
        "    -0.24654,\n",
        "    -0.52445,\n",
        "    -0.036091,\n",
        "    0.55068,\n",
        "    0.10017,\n",
        "    0.48095,\n",
        "    0.71104,\n",
        "    -0.053462,\n",
        "    0.22325,\n",
        "    0.30917,\n",
        "    -0.39926,\n",
        "    0.036634,\n",
        "    -0.35431,\n",
        "    -0.42795,\n",
        "    0.46444,\n",
        "    0.25586,\n",
        "    0.68257,\n",
        "    -0.20821,\n",
        "    0.38433,\n",
        "    0.055773,\n",
        "    -0.2539,\n",
        "    -0.20804,\n",
        "    0.52522,\n",
        "    -0.11399,\n",
        "    -0.3253,\n",
        "    -0.44104,\n",
        "    0.17528,\n",
        "    0.62255,\n",
        "    0.50237,\n",
        "    -0.7607,\n",
        "    -0.071786,\n",
        "    0.0080131,\n",
        "    -0.13286,\n",
        "    0.50097,\n",
        "    0.18824,\n",
        "    -0.54722,\n",
        "    -0.42664,\n",
        "    0.4292,\n",
        "    0.14877,\n",
        "    -0.0072514,\n",
        "    -0.16484,\n",
        "    -0.059798,\n",
        "    0.9895,\n",
        "    -0.61738,\n",
        "    0.054169,\n",
        "    0.48424,\n",
        "    -0.35084,\n",
        "    -0.27053,\n",
        "    0.37829,\n",
        "    0.11503,\n",
        "    -0.39613,\n",
        "    0.24266,\n",
        "    0.39147,\n",
        "    -0.075256,\n",
        "    0.65093,\n",
        "    -0.20822,\n",
        "    -0.17456,\n",
        "    0.53571,\n",
        "    -0.16537,\n",
        "    0.13582,\n",
        "    -0.56016,\n",
        "    0.016964,\n",
        "    0.1277,\n",
        "    0.94071,\n",
        "    -0.22608,\n",
        "    -0.021106,\n",
        "]"
      ],
      "metadata": {
        "id": "qvlqlshkSIK5",
        "executionInfo": {
          "status": "ok",
          "timestamp": 1735827096828,
          "user_tz": -330,
          "elapsed": 612,
          "user": {
            "displayName": "",
            "userId": ""
          }
        }
      },
      "id": "qvlqlshkSIK5",
      "execution_count": 35,
      "outputs": []
    },
    {
      "cell_type": "code",
      "source": [
        "request = match_service_pb2.MatchRequest()\n",
        "request.deployed_index_id = DEPLOYED_INDEX_ID\n",
        "for val in query:\n",
        "    request.float_val.append(val)\n",
        "\n",
        "# The output before stream update\n",
        "response = stub.Match(request)\n",
        "response"
      ],
      "metadata": {
        "colab": {
          "base_uri": "https://localhost:8080/"
        },
        "id": "zw_lWG3pSKU7",
        "executionInfo": {
          "status": "ok",
          "timestamp": 1735827125049,
          "user_tz": -330,
          "elapsed": 685,
          "user": {
            "displayName": "",
            "userId": ""
          }
        },
        "outputId": "8a87323e-33e8-4a64-c9a1-43cd48de7fb3"
      },
      "id": "zw_lWG3pSKU7",
      "execution_count": 36,
      "outputs": [
        {
          "output_type": "execute_result",
          "data": {
            "text/plain": [
              "neighbor {\n",
              "  id: \"0\"\n",
              "  distance: 17.592369079589844\n",
              "}\n",
              "neighbor {\n",
              "  id: \"31\"\n",
              "  distance: 14.614908218383789\n",
              "}\n",
              "neighbor {\n",
              "  id: \"50\"\n",
              "  distance: 11.242000579833984\n",
              "}\n",
              "neighbor {\n",
              "  id: \"42\"\n",
              "  distance: 10.925321578979492\n",
              "}\n",
              "neighbor {\n",
              "  id: \"46\"\n",
              "  distance: 10.185911178588867\n",
              "}\n",
              "neighbor {\n",
              "  id: \"100\"\n",
              "  distance: 10.031323432922363\n",
              "}\n",
              "neighbor {\n",
              "  id: \"71\"\n",
              "  distance: 9.4601297378540039\n",
              "}\n",
              "neighbor {\n",
              "  id: \"64\"\n",
              "  distance: 9.3296346664428711\n",
              "}\n",
              "neighbor {\n",
              "  id: \"54\"\n",
              "  distance: 9.25944709777832\n",
              "}\n",
              "neighbor {\n",
              "  id: \"98\"\n",
              "  distance: 8.94312858581543\n",
              "}"
            ]
          },
          "metadata": {},
          "execution_count": 36
        }
      ]
    },
    {
      "cell_type": "code",
      "source": [
        "insert_datapoints_payload = aiplatform_v1.IndexDatapoint(\n",
        "    datapoint_id=\"101\",\n",
        "    feature_vector=query,\n",
        "    restricts=[{\"namespace\": \"class\", \"allow_list\": [\"101\"]}],\n",
        "    crowding_tag=aiplatform_v1.IndexDatapoint.CrowdingTag(crowding_attribute=\"b\"),\n",
        ")\n",
        "\n",
        "upsert_request = aiplatform_v1.UpsertDatapointsRequest(\n",
        "    index=INDEX_RESOURCE_NAME, datapoints=[insert_datapoints_payload]\n",
        ")\n",
        "\n",
        "index_client.upsert_datapoints(request=upsert_request)\n",
        "\n",
        "request = match_service_pb2.MatchRequest()\n",
        "request.deployed_index_id = DEPLOYED_INDEX_ID\n",
        "for val in query:\n",
        "    request.float_val.append(val)\n",
        "\n",
        "# The new inserted datapoint with id 101 will show up in the output\n",
        "response = stub.Match(request)\n",
        "response"
      ],
      "metadata": {
        "colab": {
          "base_uri": "https://localhost:8080/"
        },
        "id": "RHMZ-DHjSMZq",
        "executionInfo": {
          "status": "ok",
          "timestamp": 1735827132568,
          "user_tz": -330,
          "elapsed": 580,
          "user": {
            "displayName": "",
            "userId": ""
          }
        },
        "outputId": "92ed8b50-b042-487e-b48b-a655fc77390a"
      },
      "id": "RHMZ-DHjSMZq",
      "execution_count": 37,
      "outputs": [
        {
          "output_type": "execute_result",
          "data": {
            "text/plain": [
              "neighbor {\n",
              "  id: \"0\"\n",
              "  distance: 17.592369079589844\n",
              "}\n",
              "neighbor {\n",
              "  id: \"31\"\n",
              "  distance: 14.614908218383789\n",
              "}\n",
              "neighbor {\n",
              "  id: \"50\"\n",
              "  distance: 11.242000579833984\n",
              "}\n",
              "neighbor {\n",
              "  id: \"42\"\n",
              "  distance: 10.925321578979492\n",
              "}\n",
              "neighbor {\n",
              "  id: \"46\"\n",
              "  distance: 10.185911178588867\n",
              "}\n",
              "neighbor {\n",
              "  id: \"100\"\n",
              "  distance: 10.031323432922363\n",
              "}\n",
              "neighbor {\n",
              "  id: \"71\"\n",
              "  distance: 9.4601297378540039\n",
              "}\n",
              "neighbor {\n",
              "  id: \"64\"\n",
              "  distance: 9.3296346664428711\n",
              "}\n",
              "neighbor {\n",
              "  id: \"54\"\n",
              "  distance: 9.25944709777832\n",
              "}\n",
              "neighbor {\n",
              "  id: \"98\"\n",
              "  distance: 8.94312858581543\n",
              "}"
            ]
          },
          "metadata": {},
          "execution_count": 37
        }
      ]
    },
    {
      "cell_type": "code",
      "source": [
        "request = match_service_pb2.MatchRequest()\n",
        "request.deployed_index_id = DEPLOYED_INDEX_ID\n",
        "for val in query:\n",
        "    request.float_val.append(val)\n",
        "\n",
        "# Only the datapoints whose id is 1 and 101 will show up in the output\n",
        "restrict = match_service_pb2.Namespace()\n",
        "restrict.name = \"class\"\n",
        "restrict.allow_tokens.append(\"1\")\n",
        "restrict.allow_tokens.append(\"101\")\n",
        "\n",
        "request.restricts.append(restrict)\n",
        "\n",
        "response = stub.Match(request)\n",
        "response"
      ],
      "metadata": {
        "colab": {
          "base_uri": "https://localhost:8080/"
        },
        "id": "ilvEOWTSSOeW",
        "executionInfo": {
          "status": "ok",
          "timestamp": 1735827150566,
          "user_tz": -330,
          "elapsed": 610,
          "user": {
            "displayName": "",
            "userId": ""
          }
        },
        "outputId": "cafe770b-516b-4849-8c97-bc99464ebbb7"
      },
      "id": "ilvEOWTSSOeW",
      "execution_count": 38,
      "outputs": [
        {
          "output_type": "execute_result",
          "data": {
            "text/plain": [
              "neighbor {\n",
              "  id: \"101\"\n",
              "  distance: 17.592369079589844\n",
              "}\n",
              "neighbor {\n",
              "  id: \"1\"\n",
              "  distance: 2.4347081184387207\n",
              "}"
            ]
          },
          "metadata": {},
          "execution_count": 38
        }
      ]
    },
    {
      "cell_type": "code",
      "source": [
        "update_datapoints_payload = aiplatform_v1.IndexDatapoint(\n",
        "    datapoint_id=\"101\",\n",
        "    feature_vector=query,\n",
        "    restricts=[{\"namespace\": \"class\", \"allow_list\": [\"102\"]}],\n",
        "    crowding_tag=aiplatform_v1.IndexDatapoint.CrowdingTag(crowding_attribute=\"b\"),\n",
        ")\n",
        "\n",
        "upsert_request = aiplatform_v1.UpsertDatapointsRequest(\n",
        "    index=INDEX_RESOURCE_NAME, datapoints=[update_datapoints_payload]\n",
        ")\n",
        "\n",
        "index_client.upsert_datapoints(request=upsert_request)\n",
        "\n",
        "response = stub.Match(request)\n",
        "response"
      ],
      "metadata": {
        "colab": {
          "base_uri": "https://localhost:8080/"
        },
        "id": "_kZ4YtpTSQ2f",
        "executionInfo": {
          "status": "ok",
          "timestamp": 1735827156251,
          "user_tz": -330,
          "elapsed": 576,
          "user": {
            "displayName": "",
            "userId": ""
          }
        },
        "outputId": "0f90afcc-2daf-4eca-bedd-227480cf410f"
      },
      "id": "_kZ4YtpTSQ2f",
      "execution_count": 39,
      "outputs": [
        {
          "output_type": "execute_result",
          "data": {
            "text/plain": [
              "neighbor {\n",
              "  id: \"101\"\n",
              "  distance: 17.592369079589844\n",
              "}\n",
              "neighbor {\n",
              "  id: \"1\"\n",
              "  distance: 2.4347081184387207\n",
              "}"
            ]
          },
          "metadata": {},
          "execution_count": 39
        }
      ]
    },
    {
      "cell_type": "code",
      "source": [
        "request = match_service_pb2.MatchRequest()\n",
        "request.deployed_index_id = DEPLOYED_INDEX_ID\n",
        "for val in query:\n",
        "    request.float_val.append(val)\n",
        "\n",
        "# Set the limit of the number of neighbors in each crowding to 1\n",
        "# So no more than one neighbor of each crowding group will appear in the output\n",
        "request.per_crowding_attribute_num_neighbors = 1\n",
        "\n",
        "response = stub.Match(request)\n",
        "response"
      ],
      "metadata": {
        "colab": {
          "base_uri": "https://localhost:8080/"
        },
        "id": "xrwLL-rTSTWA",
        "executionInfo": {
          "status": "ok",
          "timestamp": 1735827160127,
          "user_tz": -330,
          "elapsed": 578,
          "user": {
            "displayName": "",
            "userId": ""
          }
        },
        "outputId": "7ce8df56-47da-44a6-e933-7a534e585b16"
      },
      "id": "xrwLL-rTSTWA",
      "execution_count": 40,
      "outputs": [
        {
          "output_type": "execute_result",
          "data": {
            "text/plain": [
              "neighbor {\n",
              "  id: \"0\"\n",
              "  distance: 17.592369079589844\n",
              "}\n",
              "neighbor {\n",
              "  id: \"101\"\n",
              "  distance: 17.592369079589844\n",
              "}"
            ]
          },
          "metadata": {},
          "execution_count": 40
        }
      ]
    },
    {
      "cell_type": "code",
      "source": [
        "# Change the crowding_attribute from 'b' to 'a' for the datapoint with id '101' by using stream update\n",
        "update_datapoints_payload = aiplatform_v1.IndexDatapoint(\n",
        "    datapoint_id=\"101\",\n",
        "    feature_vector=query,\n",
        "    restricts=[{\"namespace\": \"class\", \"allow_list\": [\"101\"]}],\n",
        "    crowding_tag=aiplatform_v1.IndexDatapoint.CrowdingTag(crowding_attribute=\"a\"),\n",
        ")\n",
        "\n",
        "upsert_request = aiplatform_v1.UpsertDatapointsRequest(\n",
        "    index=INDEX_RESOURCE_NAME, datapoints=[update_datapoints_payload]\n",
        ")\n",
        "\n",
        "index_client.upsert_datapoints(request=upsert_request)\n",
        "\n",
        "response = stub.Match(request)\n",
        "response"
      ],
      "metadata": {
        "colab": {
          "base_uri": "https://localhost:8080/"
        },
        "id": "8hcMkf_TSVmB",
        "executionInfo": {
          "status": "ok",
          "timestamp": 1735827164014,
          "user_tz": -330,
          "elapsed": 617,
          "user": {
            "displayName": "",
            "userId": ""
          }
        },
        "outputId": "c89e45d0-57bd-4f21-d27b-a9aba2a752c7"
      },
      "id": "8hcMkf_TSVmB",
      "execution_count": 41,
      "outputs": [
        {
          "output_type": "execute_result",
          "data": {
            "text/plain": [
              "neighbor {\n",
              "  id: \"0\"\n",
              "  distance: 17.592369079589844\n",
              "}\n",
              "neighbor {\n",
              "  id: \"31\"\n",
              "  distance: 14.614908218383789\n",
              "}"
            ]
          },
          "metadata": {},
          "execution_count": 41
        }
      ]
    },
    {
      "cell_type": "code",
      "source": [
        "# Remove the datapoint with id '101' from the index\n",
        "remove_request = aiplatform_v1.RemoveDatapointsRequest(\n",
        "    index=INDEX_RESOURCE_NAME, datapoint_ids=[\"101\"]\n",
        ")\n",
        "\n",
        "index_client.remove_datapoints(request=remove_request)\n",
        "\n",
        "request = match_service_pb2.MatchRequest()\n",
        "request.deployed_index_id = DEPLOYED_INDEX_ID\n",
        "for val in query:\n",
        "    request.float_val.append(val)\n",
        "\n",
        "response = stub.Match(request)\n",
        "response"
      ],
      "metadata": {
        "colab": {
          "base_uri": "https://localhost:8080/"
        },
        "id": "nPxGFe0ASYKh",
        "executionInfo": {
          "status": "ok",
          "timestamp": 1735827168396,
          "user_tz": -330,
          "elapsed": 579,
          "user": {
            "displayName": "",
            "userId": ""
          }
        },
        "outputId": "7aa3c7e6-94c2-4a13-91f0-f548b14c5ded"
      },
      "id": "nPxGFe0ASYKh",
      "execution_count": 42,
      "outputs": [
        {
          "output_type": "execute_result",
          "data": {
            "text/plain": [
              "neighbor {\n",
              "  id: \"0\"\n",
              "  distance: 17.592369079589844\n",
              "}\n",
              "neighbor {\n",
              "  id: \"31\"\n",
              "  distance: 14.614908218383789\n",
              "}\n",
              "neighbor {\n",
              "  id: \"50\"\n",
              "  distance: 11.242000579833984\n",
              "}\n",
              "neighbor {\n",
              "  id: \"42\"\n",
              "  distance: 10.925321578979492\n",
              "}\n",
              "neighbor {\n",
              "  id: \"46\"\n",
              "  distance: 10.185911178588867\n",
              "}\n",
              "neighbor {\n",
              "  id: \"100\"\n",
              "  distance: 10.031323432922363\n",
              "}\n",
              "neighbor {\n",
              "  id: \"71\"\n",
              "  distance: 9.4601297378540039\n",
              "}\n",
              "neighbor {\n",
              "  id: \"64\"\n",
              "  distance: 9.3296346664428711\n",
              "}\n",
              "neighbor {\n",
              "  id: \"54\"\n",
              "  distance: 9.25944709777832\n",
              "}\n",
              "neighbor {\n",
              "  id: \"98\"\n",
              "  distance: 8.94312858581543\n",
              "}"
            ]
          },
          "metadata": {},
          "execution_count": 42
        }
      ]
    },
    {
      "cell_type": "code",
      "source": [],
      "metadata": {
        "id": "LsbWaUz8SbA5"
      },
      "id": "LsbWaUz8SbA5",
      "execution_count": null,
      "outputs": []
    }
  ],
  "metadata": {
    "kernelspec": {
      "display_name": "Python 3",
      "language": "python",
      "name": "python3"
    },
    "language_info": {
      "codemirror_mode": {
        "name": "ipython",
        "version": 3
      },
      "file_extension": ".py",
      "mimetype": "text/x-python",
      "name": "python",
      "nbconvert_exporter": "python",
      "pygments_lexer": "ipython3",
      "version": "3.10.10"
    },
    "colab": {
      "provenance": [],
      "name": "student-03-a3b9f4b0338c (Jan 2, 2025, 6:51:39 PM)"
    }
  },
  "nbformat": 4,
  "nbformat_minor": 5
}