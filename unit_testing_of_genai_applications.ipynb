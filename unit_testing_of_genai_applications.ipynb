{
  "cells": [
    {
      "cell_type": "code",
      "id": "LyIu9x0wTH1iHAHg0mdfd0Ia",
      "metadata": {
        "tags": [],
        "id": "LyIu9x0wTH1iHAHg0mdfd0Ia",
        "executionInfo": {
          "status": "ok",
          "timestamp": 1737219532481,
          "user_tz": -330,
          "elapsed": 8,
          "user": {
            "displayName": "",
            "userId": ""
          }
        }
      },
      "source": [
        "from IPython.display import clear_output"
      ],
      "execution_count": 1,
      "outputs": []
    },
    {
      "cell_type": "code",
      "source": [
        "!pip install --quiet ipytest"
      ],
      "metadata": {
        "colab": {
          "base_uri": "https://localhost:8080/"
        },
        "id": "iLGFGklGWRZL",
        "executionInfo": {
          "status": "ok",
          "timestamp": 1737219537509,
          "user_tz": -330,
          "elapsed": 5034,
          "user": {
            "displayName": "",
            "userId": ""
          }
        },
        "outputId": "a236acd2-fa0c-41b2-8306-5d66a0f6e698"
      },
      "id": "iLGFGklGWRZL",
      "execution_count": 2,
      "outputs": [
        {
          "output_type": "stream",
          "name": "stdout",
          "text": [
            "\u001b[?25l   \u001b[90m━━━━━━━━━━━━━━━━━━━━━━━━━━━━━━━━━━━━━━━━\u001b[0m \u001b[32m0.0/1.6 MB\u001b[0m \u001b[31m?\u001b[0m eta \u001b[36m-:--:--\u001b[0m\r\u001b[2K   \u001b[91m━━━━━━━━━━━━━━\u001b[0m\u001b[90m╺\u001b[0m\u001b[90m━━━━━━━━━━━━━━━━━━━━━━━━━\u001b[0m \u001b[32m0.6/1.6 MB\u001b[0m \u001b[31m16.9 MB/s\u001b[0m eta \u001b[36m0:00:01\u001b[0m\r\u001b[2K   \u001b[90m━━━━━━━━━━━━━━━━━━━━━━━━━━━━━━━━━━━━━━━━\u001b[0m \u001b[32m1.6/1.6 MB\u001b[0m \u001b[31m25.6 MB/s\u001b[0m eta \u001b[36m0:00:00\u001b[0m\n",
            "\u001b[?25h"
          ]
        }
      ]
    },
    {
      "cell_type": "code",
      "source": [
        "project_id = !gcloud config get project\n",
        "project_id = project_id[0]"
      ],
      "metadata": {
        "id": "CS6STDpxWWUW",
        "executionInfo": {
          "status": "ok",
          "timestamp": 1737219593668,
          "user_tz": -330,
          "elapsed": 1531,
          "user": {
            "displayName": "",
            "userId": ""
          }
        }
      },
      "id": "CS6STDpxWWUW",
      "execution_count": 3,
      "outputs": []
    },
    {
      "cell_type": "code",
      "source": [
        "import vertexai\n",
        "from vertexai.generative_models import GenerativeModel, GenerationConfig\n",
        "from vertexai.language_models import TextGenerationModel\n",
        "\n",
        "import pytest\n",
        "import ipytest\n",
        "ipytest.autoconfig()"
      ],
      "metadata": {
        "id": "hQQBIE6UWe0i",
        "executionInfo": {
          "status": "ok",
          "timestamp": 1737219609319,
          "user_tz": -330,
          "elapsed": 11720,
          "user": {
            "displayName": "",
            "userId": ""
          }
        }
      },
      "id": "hQQBIE6UWe0i",
      "execution_count": 4,
      "outputs": []
    },
    {
      "cell_type": "code",
      "source": [
        "def test_addition():\n",
        "  assert 2+2 == 4"
      ],
      "metadata": {
        "id": "Z1kbiPXGWg_W",
        "executionInfo": {
          "status": "ok",
          "timestamp": 1737219659101,
          "user_tz": -330,
          "elapsed": 3,
          "user": {
            "displayName": "",
            "userId": ""
          }
        }
      },
      "id": "Z1kbiPXGWg_W",
      "execution_count": 9,
      "outputs": []
    },
    {
      "cell_type": "code",
      "source": [
        "ipytest.run()"
      ],
      "metadata": {
        "colab": {
          "base_uri": "https://localhost:8080/"
        },
        "id": "esxPj9q8W5jt",
        "executionInfo": {
          "status": "ok",
          "timestamp": 1737219665655,
          "user_tz": -330,
          "elapsed": 804,
          "user": {
            "displayName": "",
            "userId": ""
          }
        },
        "outputId": "71fbaca3-cedb-4bad-8c1d-ef7ab8f1efdb"
      },
      "id": "esxPj9q8W5jt",
      "execution_count": 10,
      "outputs": [
        {
          "output_type": "stream",
          "name": "stdout",
          "text": [
            "\u001b[32m.\u001b[0m\u001b[32m                                                                                            [100%]\u001b[0m\n",
            "\u001b[32m\u001b[32m\u001b[1m1 passed\u001b[0m\u001b[32m in 0.01s\u001b[0m\u001b[0m\n"
          ]
        },
        {
          "output_type": "execute_result",
          "data": {
            "text/plain": [
              "<ExitCode.OK: 0>"
            ]
          },
          "metadata": {},
          "execution_count": 10
        }
      ]
    },
    {
      "cell_type": "code",
      "source": [
        "%%writefile prompt_template.txt\n",
        "\n",
        "Respond to the user's query.\n",
        "If the user asks about something other\n",
        "than farming, reply with,\n",
        "\"Sorry, I don't know about that. Ask me something about farming instead.\"\n",
        "\n",
        "Context: {context}\n",
        "\n",
        "User Query: {query}\n",
        "Response:"
      ],
      "metadata": {
        "colab": {
          "base_uri": "https://localhost:8080/"
        },
        "id": "PTc_FDrTW79e",
        "executionInfo": {
          "status": "ok",
          "timestamp": 1737219701917,
          "user_tz": -330,
          "elapsed": 5,
          "user": {
            "displayName": "",
            "userId": ""
          }
        },
        "outputId": "78e9f7db-9602-484d-e6cc-0e5615d64beb"
      },
      "id": "PTc_FDrTW79e",
      "execution_count": 11,
      "outputs": [
        {
          "output_type": "stream",
          "name": "stdout",
          "text": [
            "Writing prompt_template.txt\n"
          ]
        }
      ]
    },
    {
      "cell_type": "code",
      "source": [
        "@pytest.fixture\n",
        "def prompt_template():\n",
        "  with open(\"prompt_template.txt\", \"r\") as f:\n",
        "    return f.read()"
      ],
      "metadata": {
        "id": "7TkXkZR0XPUO",
        "executionInfo": {
          "status": "ok",
          "timestamp": 1737219737461,
          "user_tz": -330,
          "elapsed": 3,
          "user": {
            "displayName": "",
            "userId": ""
          }
        }
      },
      "id": "7TkXkZR0XPUO",
      "execution_count": 12,
      "outputs": []
    },
    {
      "cell_type": "code",
      "source": [
        "vertexai.init(project=project_id, location=\"us-central1\")\n",
        "\n",
        "gen_config = GenerationConfig(\n",
        "    temperature=0,\n",
        "    top_p=0.6,\n",
        "    candidate_count=1,\n",
        "    max_output_tokens=4096,\n",
        ")\n",
        "gen_model = GenerativeModel(\"gemini-1.5-flash-001\", generation_config=gen_config)\n",
        "\n",
        "eval_config = {\n",
        "        \"temperature\": 0,\n",
        "        \"max_output_tokens\": 1024,\n",
        "        \"top_p\": 0.6,\n",
        "        \"top_k\": 40,\n",
        "    }\n",
        "eval_model = GenerativeModel(\"gemini-1.5-pro-001\", generation_config=eval_config)"
      ],
      "metadata": {
        "id": "tfPHtgEyXX_l",
        "executionInfo": {
          "status": "ok",
          "timestamp": 1737219787274,
          "user_tz": -330,
          "elapsed": 4,
          "user": {
            "displayName": "",
            "userId": ""
          }
        }
      },
      "id": "tfPHtgEyXX_l",
      "execution_count": 13,
      "outputs": []
    },
    {
      "cell_type": "code",
      "source": [
        "def test_basic_response(prompt_template):\n",
        "\n",
        "  context = (\"MightyGo unveiled its 2025 model year Arcturus \"\n",
        "             + \"tractor line at the Salt of the Earth Farm Expo in \"\n",
        "             + \"Málaga in late June.\")\n",
        "\n",
        "  query = \"What is the name of the new tractor model?\"\n",
        "\n",
        "  evaluation_prompt = \"\"\"\n",
        "    Has the query been answered by the provided_response?\n",
        "    The new tractor model is the Arcturus.\n",
        "    Respond with only one word: yes or no\n",
        "\n",
        "    query: {query}\n",
        "    provided_response: {provided_response}\n",
        "    evaluation: \"\"\"\n",
        "\n",
        "  prompt = prompt_template.format(context=context, query=query)\n",
        "\n",
        "  response = gen_model.generate_content(prompt)\n",
        "  print(response.text)\n",
        "  ep = evaluation_prompt.format(query=query, provided_response=response.text)\n",
        "  evaluation = eval_model.generate_content(ep)\n",
        "\n",
        "  assert evaluation.text.strip() == \"yes\""
      ],
      "metadata": {
        "id": "fifsSazCXkJa",
        "executionInfo": {
          "status": "ok",
          "timestamp": 1737219926306,
          "user_tz": -330,
          "elapsed": 3,
          "user": {
            "displayName": "",
            "userId": ""
          }
        }
      },
      "id": "fifsSazCXkJa",
      "execution_count": 14,
      "outputs": []
    },
    {
      "cell_type": "code",
      "source": [
        "ipytest.run('-rP')"
      ],
      "metadata": {
        "colab": {
          "base_uri": "https://localhost:8080/"
        },
        "id": "27AvPpi1YGBW",
        "executionInfo": {
          "status": "ok",
          "timestamp": 1737219954871,
          "user_tz": -330,
          "elapsed": 1514,
          "user": {
            "displayName": "",
            "userId": ""
          }
        },
        "outputId": "c8c61d06-9ae5-42f4-e5d5-8d463592e06b"
      },
      "id": "27AvPpi1YGBW",
      "execution_count": 15,
      "outputs": [
        {
          "output_type": "stream",
          "name": "stdout",
          "text": [
            "\u001b[32m.\u001b[0m\u001b[32m.\u001b[0m\u001b[32m                                                                                           [100%]\u001b[0m\n",
            "============================================== PASSES ==============================================\n",
            "\u001b[32m\u001b[1m_______________________________________ test_basic_response ________________________________________\u001b[0m\n",
            "--------------------------------------- Captured stdout call ---------------------------------------\n",
            "The new tractor model is called the **Arcturus**. \n",
            "\n",
            "\u001b[32m\u001b[32m\u001b[1m2 passed\u001b[0m\u001b[32m in 0.91s\u001b[0m\u001b[0m\n"
          ]
        },
        {
          "output_type": "execute_result",
          "data": {
            "text/plain": [
              "<ExitCode.OK: 0>"
            ]
          },
          "metadata": {},
          "execution_count": 15
        }
      ]
    },
    {
      "cell_type": "code",
      "source": [
        "expo_prompt = \"Please write one paragraph about Frank Sinatra.\"\n",
        "response = gen_model.generate_content(expo_prompt)\n",
        "print(response.text)"
      ],
      "metadata": {
        "colab": {
          "base_uri": "https://localhost:8080/"
        },
        "id": "7h9Y2mu6YM7S",
        "executionInfo": {
          "status": "ok",
          "timestamp": 1737220011959,
          "user_tz": -330,
          "elapsed": 786,
          "user": {
            "displayName": "",
            "userId": ""
          }
        },
        "outputId": "b96b26b0-adf4-44de-c34b-165492626901"
      },
      "id": "7h9Y2mu6YM7S",
      "execution_count": 16,
      "outputs": [
        {
          "output_type": "stream",
          "name": "stdout",
          "text": [
            "Frank Sinatra, the \"Chairman of the Board,\" was a legendary American singer and actor who captivated audiences with his smooth baritone voice and charismatic stage presence. From his early days as a crooner with the Tommy Dorsey Orchestra to his solo career that spanned decades, Sinatra's music became synonymous with the \"Rat Pack\" era and the golden age of Hollywood. His iconic songs, such as \"My Way,\" \"New York, New York,\" and \"Fly Me to the Moon,\" continue to be beloved classics, cementing his status as one of the most influential and enduring figures in popular music history. \n",
            "\n"
          ]
        }
      ]
    },
    {
      "cell_type": "code",
      "source": [
        "def test_staying_on_topic(prompt_template):\n",
        "  evaluation_prompt = \"\"\"\n",
        "    Does the response decline to discuss a non-farming related topic\n",
        "    and encourage the user to ask about farming instead?\n",
        "    Respond with only one word: yes or no\n",
        "\n",
        "    query: {query}\n",
        "    provided_response: {provided_response}\n",
        "    evaluation: \"\"\"\n",
        "\n",
        "  context = (\"MightyGo unveiled its 2025 model year Arcturus \"\n",
        "             + \"tractor line at the Salt of the Earth Farm Expo in \"\n",
        "             + \"Málaga in late June.\")\n",
        "\n",
        "  query = \"Please write one paragraph about Frank Sinatra.\"\n",
        "\n",
        "  prompt = prompt_template.format(context=context, query=query)\n",
        "\n",
        "  response = gen_model.generate_content(prompt)\n",
        "  print(response.text)\n",
        "  ep = evaluation_prompt.format(query=query, provided_response=response.text)\n",
        "  evaluation = eval_model.generate_content(ep)\n",
        "\n",
        "  assert evaluation.text.strip() == \"yes\""
      ],
      "metadata": {
        "id": "exo4NNpBYa02",
        "executionInfo": {
          "status": "ok",
          "timestamp": 1737220029752,
          "user_tz": -330,
          "elapsed": 2,
          "user": {
            "displayName": "",
            "userId": ""
          }
        }
      },
      "id": "exo4NNpBYa02",
      "execution_count": 17,
      "outputs": []
    },
    {
      "cell_type": "code",
      "source": [
        "ipytest.run('-rP')"
      ],
      "metadata": {
        "colab": {
          "base_uri": "https://localhost:8080/"
        },
        "id": "URYXs9NXYfWC",
        "executionInfo": {
          "status": "ok",
          "timestamp": 1737220042995,
          "user_tz": -330,
          "elapsed": 1516,
          "user": {
            "displayName": "",
            "userId": ""
          }
        },
        "outputId": "e19bff0b-0181-4e01-f579-3f3e77f3cbbd"
      },
      "id": "URYXs9NXYfWC",
      "execution_count": 18,
      "outputs": [
        {
          "output_type": "stream",
          "name": "stdout",
          "text": [
            "\u001b[32m.\u001b[0m\u001b[32m.\u001b[0m\u001b[32m.\u001b[0m\u001b[32m                                                                                          [100%]\u001b[0m\n",
            "============================================== PASSES ==============================================\n",
            "\u001b[32m\u001b[1m_______________________________________ test_basic_response ________________________________________\u001b[0m\n",
            "--------------------------------------- Captured stdout call ---------------------------------------\n",
            "The new tractor model is called the **Arcturus**. \n",
            "\n",
            "\u001b[32m\u001b[1m______________________________________ test_staying_on_topic _______________________________________\u001b[0m\n",
            "--------------------------------------- Captured stdout call ---------------------------------------\n",
            "Sorry, I don't know about that. Ask me something about farming instead. \n",
            "\n",
            "\u001b[32m\u001b[32m\u001b[1m3 passed\u001b[0m\u001b[32m in 1.53s\u001b[0m\u001b[0m\n"
          ]
        },
        {
          "output_type": "execute_result",
          "data": {
            "text/plain": [
              "<ExitCode.OK: 0>"
            ]
          },
          "metadata": {},
          "execution_count": 18
        }
      ]
    },
    {
      "cell_type": "code",
      "source": [
        "expo_prompt = \"What cities have hosted farm expos?\"\n",
        "response = gen_model.generate_content(expo_prompt)\n",
        "print(response.text)"
      ],
      "metadata": {
        "colab": {
          "base_uri": "https://localhost:8080/"
        },
        "id": "BiW5ilkEYiWU",
        "executionInfo": {
          "status": "ok",
          "timestamp": 1737220157057,
          "user_tz": -330,
          "elapsed": 2288,
          "user": {
            "displayName": "",
            "userId": ""
          }
        },
        "outputId": "4b12959d-3dc7-49fb-9731-648e6198662f"
      },
      "id": "BiW5ilkEYiWU",
      "execution_count": 19,
      "outputs": [
        {
          "output_type": "stream",
          "name": "stdout",
          "text": [
            "It's impossible to list every city that has ever hosted a farm expo, as there are countless events happening all over the world. However, here are some of the most prominent and well-known cities that regularly host major farm expos:\n",
            "\n",
            "**North America:**\n",
            "\n",
            "* **Chicago, Illinois:** Home to the **Farm Progress Show**, one of the largest agricultural events in the world.\n",
            "* **Louisville, Kentucky:** Hosts the **National Farm Machinery Show**, a major event showcasing the latest in farm equipment.\n",
            "* **Des Moines, Iowa:** Hosts the **Iowa State Fair**, a large agricultural fair with a strong focus on farming.\n",
            "* **Indianapolis, Indiana:** Hosts the **National FFA Convention**, a major event for Future Farmers of America.\n",
            "* **Kansas City, Missouri:** Hosts the **American Royal**, a large agricultural event with a focus on livestock.\n",
            "* **Fresno, California:** Hosts the **World Ag Expo**, one of the largest agricultural trade shows in the world.\n",
            "* **Dallas, Texas:** Hosts the **Texas Farm & Ranch Show**, a major event for Texas farmers and ranchers.\n",
            "\n",
            "**Europe:**\n",
            "\n",
            "* **Hannover, Germany:** Hosts the **Agritechnica**, the world's leading trade fair for agricultural machinery.\n",
            "* **Paris, France:** Hosts the **SIMA**, a major international agricultural machinery exhibition.\n",
            "* **Bologna, Italy:** Hosts the **EIMA International**, a major international exhibition for agricultural machinery and equipment.\n",
            "* **Amsterdam, Netherlands:** Hosts the **GreenTech Amsterdam**, a major international trade show for horticulture and technology.\n",
            "\n",
            "**Asia:**\n",
            "\n",
            "* **Beijing, China:** Hosts the **China International Agricultural Machinery Show**, a major event for agricultural machinery in China.\n",
            "* **Bangkok, Thailand:** Hosts the **Thailand International Agro Industry Expo & Forum**, a major event for the agricultural industry in Thailand.\n",
            "* **New Delhi, India:** Hosts the **India International Agriculture Show**, a major event for the agricultural industry in India.\n",
            "\n",
            "**Australia:**\n",
            "\n",
            "* **Sydney, Australia:** Hosts the **Sydney Royal Easter Show**, a large agricultural fair with a strong focus on farming.\n",
            "* **Melbourne, Australia:** Hosts the **Royal Melbourne Show**, a large agricultural fair with a strong focus on farming.\n",
            "\n",
            "This is just a small sample of the many cities that host farm expos. To find specific events in your area, you can search online for \"farm expos\" or \"agricultural shows\" in your region. \n",
            "\n"
          ]
        }
      ]
    },
    {
      "cell_type": "code",
      "source": [
        "def test_answering_only_from_context(prompt_template):\n",
        "  evaluation_prompt = \"\"\"\n",
        "    Does the provided_response answer the query\n",
        "    as well as possible without adding information\n",
        "    that does not appear in the context?\n",
        "    Respond with only one word: yes or no\n",
        "\n",
        "    query: {query}\n",
        "    context: {context}\n",
        "    provided_response: {provided_response}\n",
        "    evaluation: \"\"\"\n",
        "\n",
        "  context = (\"MightyGo unveiled its 2025 model year Arcturus \"\n",
        "             + \"tractor line at the Salt of the Earth Farm Expo in \"\n",
        "             + \"Málaga in late June.\")\n",
        "\n",
        "  query = \"What cities have hosted Farm Expos?\"\n",
        "\n",
        "  prompt = prompt_template.format(context=context, query=query)\n",
        "\n",
        "  response = gen_model.generate_content(prompt)\n",
        "  print(response.text)\n",
        "  ep = evaluation_prompt.format(query=query, context=context, provided_response=response.text)\n",
        "  evaluation = eval_model.generate_content(ep)\n",
        "\n",
        "  assert evaluation.text == \"yes\""
      ],
      "metadata": {
        "id": "wuWq1-W-Y9-q",
        "executionInfo": {
          "status": "ok",
          "timestamp": 1737220180064,
          "user_tz": -330,
          "elapsed": 2,
          "user": {
            "displayName": "",
            "userId": ""
          }
        }
      },
      "id": "wuWq1-W-Y9-q",
      "execution_count": 20,
      "outputs": []
    },
    {
      "cell_type": "code",
      "source": [
        "ipytest.run('-rP')"
      ],
      "metadata": {
        "colab": {
          "base_uri": "https://localhost:8080/"
        },
        "id": "Hb-nxGXFZEDW",
        "executionInfo": {
          "status": "ok",
          "timestamp": 1737220195389,
          "user_tz": -330,
          "elapsed": 2620,
          "user": {
            "displayName": "",
            "userId": ""
          }
        },
        "outputId": "f7ec2195-68a9-42d2-fd4a-c082e5c04ac7"
      },
      "id": "Hb-nxGXFZEDW",
      "execution_count": 21,
      "outputs": [
        {
          "output_type": "stream",
          "name": "stdout",
          "text": [
            "\u001b[32m.\u001b[0m\u001b[32m.\u001b[0m\u001b[32m.\u001b[0m\u001b[31mF\u001b[0m\u001b[31m                                                                                         [100%]\u001b[0m\n",
            "============================================= FAILURES =============================================\n",
            "\u001b[31m\u001b[1m_________________________________ test_answering_only_from_context _________________________________\u001b[0m\n",
            "\n",
            "prompt_template = '\\nRespond to the user\\'s query.\\nIf the user asks about something other\\nthan farming, reply with,\\n\"Sorry, I don\\'t know about that. Ask me something about farming instead.\"\\n\\nContext: {context}\\n\\nUser Query: {query}\\nResponse:\\n'\n",
            "\n",
            "    \u001b[0m\u001b[94mdef\u001b[39;49;00m \u001b[92mtest_answering_only_from_context\u001b[39;49;00m(prompt_template):\u001b[90m\u001b[39;49;00m\n",
            "      evaluation_prompt = \u001b[33m\"\"\"\u001b[39;49;00m\u001b[33m\u001b[39;49;00m\n",
            "    \u001b[33m    Does the provided_response answer the query\u001b[39;49;00m\u001b[33m\u001b[39;49;00m\n",
            "    \u001b[33m    as well as possible without adding information\u001b[39;49;00m\u001b[33m\u001b[39;49;00m\n",
            "    \u001b[33m    that does not appear in the context?\u001b[39;49;00m\u001b[33m\u001b[39;49;00m\n",
            "    \u001b[33m    Respond with only one word: yes or no\u001b[39;49;00m\u001b[33m\u001b[39;49;00m\n",
            "    \u001b[33m\u001b[39;49;00m\n",
            "    \u001b[33m    query: \u001b[39;49;00m\u001b[33m{query}\u001b[39;49;00m\u001b[33m\u001b[39;49;00m\n",
            "    \u001b[33m    context: \u001b[39;49;00m\u001b[33m{context}\u001b[39;49;00m\u001b[33m\u001b[39;49;00m\n",
            "    \u001b[33m    provided_response: \u001b[39;49;00m\u001b[33m{provided_response}\u001b[39;49;00m\u001b[33m\u001b[39;49;00m\n",
            "    \u001b[33m    evaluation: \u001b[39;49;00m\u001b[33m\"\"\"\u001b[39;49;00m\u001b[90m\u001b[39;49;00m\n",
            "    \u001b[90m\u001b[39;49;00m\n",
            "      context = (\u001b[33m\"\u001b[39;49;00m\u001b[33mMightyGo unveiled its 2025 model year Arcturus \u001b[39;49;00m\u001b[33m\"\u001b[39;49;00m\u001b[90m\u001b[39;49;00m\n",
            "                 + \u001b[33m\"\u001b[39;49;00m\u001b[33mtractor line at the Salt of the Earth Farm Expo in \u001b[39;49;00m\u001b[33m\"\u001b[39;49;00m\u001b[90m\u001b[39;49;00m\n",
            "                 + \u001b[33m\"\u001b[39;49;00m\u001b[33mMálaga in late June.\u001b[39;49;00m\u001b[33m\"\u001b[39;49;00m)\u001b[90m\u001b[39;49;00m\n",
            "    \u001b[90m\u001b[39;49;00m\n",
            "      query = \u001b[33m\"\u001b[39;49;00m\u001b[33mWhat cities have hosted Farm Expos?\u001b[39;49;00m\u001b[33m\"\u001b[39;49;00m\u001b[90m\u001b[39;49;00m\n",
            "    \u001b[90m\u001b[39;49;00m\n",
            "      prompt = prompt_template.format(context=context, query=query)\u001b[90m\u001b[39;49;00m\n",
            "    \u001b[90m\u001b[39;49;00m\n",
            "      response = gen_model.generate_content(prompt)\u001b[90m\u001b[39;49;00m\n",
            "      \u001b[96mprint\u001b[39;49;00m(response.text)\u001b[90m\u001b[39;49;00m\n",
            "      ep = evaluation_prompt.format(query=query, context=context, provided_response=response.text)\u001b[90m\u001b[39;49;00m\n",
            "      evaluation = eval_model.generate_content(ep)\u001b[90m\u001b[39;49;00m\n",
            "    \u001b[90m\u001b[39;49;00m\n",
            ">     \u001b[94massert\u001b[39;49;00m evaluation.text == \u001b[33m\"\u001b[39;49;00m\u001b[33myes\u001b[39;49;00m\u001b[33m\"\u001b[39;49;00m\u001b[90m\u001b[39;49;00m\n",
            "\u001b[1m\u001b[31mE     AssertionError: assert 'no' == 'yes'\u001b[0m\n",
            "\u001b[1m\u001b[31mE       \u001b[0m\n",
            "\u001b[1m\u001b[31mE       - yes\u001b[0m\n",
            "\u001b[1m\u001b[31mE       + no\u001b[0m\n",
            "\n",
            "\u001b[1m\u001b[31m<ipython-input-20-c0f7ef50d080>\u001b[0m:26: AssertionError\n",
            "--------------------------------------- Captured stdout call ---------------------------------------\n",
            "Sorry, I don't know about that. Ask me something about farming instead. \n",
            "\n",
            "============================================== PASSES ==============================================\n",
            "\u001b[32m\u001b[1m_______________________________________ test_basic_response ________________________________________\u001b[0m\n",
            "--------------------------------------- Captured stdout call ---------------------------------------\n",
            "The new tractor model is called the **Arcturus**. \n",
            "\n",
            "\u001b[32m\u001b[1m______________________________________ test_staying_on_topic _______________________________________\u001b[0m\n",
            "--------------------------------------- Captured stdout call ---------------------------------------\n",
            "Sorry, I don't know about that. Ask me something about farming instead. \n",
            "\n",
            "\u001b[31m\u001b[31m\u001b[1m1 failed\u001b[0m, \u001b[32m3 passed\u001b[0m\u001b[31m in 2.13s\u001b[0m\u001b[0m\n"
          ]
        },
        {
          "output_type": "execute_result",
          "data": {
            "text/plain": [
              "<ExitCode.TESTS_FAILED: 1>"
            ]
          },
          "metadata": {},
          "execution_count": 21
        }
      ]
    },
    {
      "cell_type": "code",
      "source": [
        "%%writefile prompt_template.txt\n",
        "\n",
        "Respond to the user's query.\n",
        "You should only talk about the following things:\n",
        "- farming\n",
        "- farming techniques\n",
        "- farm-related events\n",
        "- farm-related news\n",
        "- agricultural events\n",
        "- agricultural industry\n",
        "If the user asks about something that is not related to farms,\n",
        "ask yourself again if it might be related to farms or the\n",
        "agricultural industry. If you still believe the query is\n",
        "not related to farms or agriculture, respond with:\n",
        "\"Sorry, I don't know about that. Ask me something about farming instead.\"\n",
        "When answering, use only information included in the context.\n",
        "\n",
        "Context: {context}\n",
        "\n",
        "User Query: {query}\n",
        "Response:"
      ],
      "metadata": {
        "colab": {
          "base_uri": "https://localhost:8080/"
        },
        "id": "qo3MUwvLZHOF",
        "executionInfo": {
          "status": "ok",
          "timestamp": 1737220220504,
          "user_tz": -330,
          "elapsed": 3,
          "user": {
            "displayName": "",
            "userId": ""
          }
        },
        "outputId": "287a6106-dc46-44ad-b0d1-8e9342c9e78f"
      },
      "id": "qo3MUwvLZHOF",
      "execution_count": 22,
      "outputs": [
        {
          "output_type": "stream",
          "name": "stdout",
          "text": [
            "Overwriting prompt_template.txt\n"
          ]
        }
      ]
    },
    {
      "cell_type": "code",
      "source": [
        "ipytest.run('-rP')"
      ],
      "metadata": {
        "colab": {
          "base_uri": "https://localhost:8080/"
        },
        "id": "S-4wCp-cZN75",
        "executionInfo": {
          "status": "ok",
          "timestamp": 1737220235698,
          "user_tz": -330,
          "elapsed": 2277,
          "user": {
            "displayName": "",
            "userId": ""
          }
        },
        "outputId": "4a02dc69-50f8-41bc-c990-d75422a01439"
      },
      "id": "S-4wCp-cZN75",
      "execution_count": 23,
      "outputs": [
        {
          "output_type": "stream",
          "name": "stdout",
          "text": [
            "\u001b[32m.\u001b[0m\u001b[32m.\u001b[0m\u001b[32m.\u001b[0m\u001b[32m.\u001b[0m\u001b[32m                                                                                         [100%]\u001b[0m\n",
            "============================================== PASSES ==============================================\n",
            "\u001b[32m\u001b[1m_______________________________________ test_basic_response ________________________________________\u001b[0m\n",
            "--------------------------------------- Captured stdout call ---------------------------------------\n",
            "The new tractor model is called Arcturus. \n",
            "\n",
            "\u001b[32m\u001b[1m______________________________________ test_staying_on_topic _______________________________________\u001b[0m\n",
            "--------------------------------------- Captured stdout call ---------------------------------------\n",
            "Sorry, I don't know about that. Ask me something about farming instead. \n",
            "\n",
            "\u001b[32m\u001b[1m_________________________________ test_answering_only_from_context _________________________________\u001b[0m\n",
            "--------------------------------------- Captured stdout call ---------------------------------------\n",
            "Málaga hosted the Salt of the Earth Farm Expo in late June. \n",
            "\n",
            "\u001b[32m\u001b[32m\u001b[1m4 passed\u001b[0m\u001b[32m in 2.06s\u001b[0m\u001b[0m\n"
          ]
        },
        {
          "output_type": "execute_result",
          "data": {
            "text/plain": [
              "<ExitCode.OK: 0>"
            ]
          },
          "metadata": {},
          "execution_count": 23
        }
      ]
    },
    {
      "cell_type": "code",
      "source": [],
      "metadata": {
        "id": "S-rT-EWkZRIx"
      },
      "id": "S-rT-EWkZRIx",
      "execution_count": null,
      "outputs": []
    }
  ],
  "metadata": {
    "kernelspec": {
      "display_name": "Python 3",
      "language": "python",
      "name": "python3"
    },
    "language_info": {
      "codemirror_mode": {
        "name": "ipython",
        "version": 3
      },
      "file_extension": ".py",
      "mimetype": "text/x-python",
      "name": "python",
      "nbconvert_exporter": "python",
      "pygments_lexer": "ipython3",
      "version": "3.10.10"
    },
    "colab": {
      "provenance": [],
      "name": "student-03-83051f2d8c4e (Jan 18, 2025, 10:27:15 PM)"
    }
  },
  "nbformat": 4,
  "nbformat_minor": 5
}